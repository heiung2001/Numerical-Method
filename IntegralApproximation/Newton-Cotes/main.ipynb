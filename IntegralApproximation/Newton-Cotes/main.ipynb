{
 "cells": [
  {
   "cell_type": "markdown",
   "metadata": {},
   "source": [
    "# Các thư viện được sử dụng"
   ]
  },
  {
   "cell_type": "code",
   "execution_count": 60,
   "metadata": {},
   "outputs": [],
   "source": [
    "from sympy import *\n",
    "import numpy as np"
   ]
  },
  {
   "cell_type": "markdown",
   "metadata": {},
   "source": [
    "# Nhập vào dữ liệu"
   ]
  },
  {
   "cell_type": "code",
   "execution_count": 102,
   "metadata": {},
   "outputs": [],
   "source": [
    "t = symbols('t')\n",
    "\n",
    "# Nhập hàm theo biến t\n",
    "function = cos(t)*sin(t)\n",
    "\n",
    "# khoảng tích phân\n",
    "A = -5\n",
    "B = 1\n",
    "\n",
    "# số cấp đa thức xấp xỉ\n",
    "N = 10"
   ]
  },
  {
   "cell_type": "markdown",
   "metadata": {},
   "source": [
    "# Một số hàm phụ trợ"
   ]
  },
  {
   "cell_type": "markdown",
   "metadata": {},
   "source": [
    "## Phân tích đa thức $\\prod_{i=0,i\\neq k}^n (x-i)$ bằng Horner"
   ]
  },
  {
   "cell_type": "markdown",
   "metadata": {},
   "source": [
    "### Input:\n",
    "        Cấp n của đa thức\n",
    "        Số k bị khuyết\n",
    "### Ouput:\n",
    "        Mảng các hệ số của đa thức sau khai triển\n",
    "### Thuật toán:\n",
    "        "
   ]
  },
  {
   "cell_type": "code",
   "execution_count": 40,
   "metadata": {},
   "outputs": [],
   "source": [
    "def factorize_poly(n: int, k: int) -> np.array:\n",
    "    coefs = np.zeros([n, n+2])\n",
    "    arr = np.arange(n+1)\n",
    "\n",
    "    coefs[0, n-1], coefs[0, n] = 1, -1\n",
    "    for i in range(1, n):\n",
    "        coefs[i, n-i-1] = 1\n",
    "        for j in range(n-i, n+1):\n",
    "            coefs[i, j] = coefs[i-1, j+1] - arr[i+1]*coefs[i-1, j]\n",
    "    \n",
    "    n_poly = coefs[n-1]\n",
    "    res = np.zeros(n+1)\n",
    "    res[0] = 1\n",
    "    for i in range(1, n+1):\n",
    "        res[i] = res[i-1]*k + n_poly[i]\n",
    "    return res"
   ]
  },
  {
   "cell_type": "code",
   "execution_count": 41,
   "metadata": {},
   "outputs": [],
   "source": [
    "def Horner(arr: np.array, x: int):\n",
    "    temp = np.zeros(len(arr)+1)\n",
    "    temp[0] = arr[0]\n",
    "    for i in range(1, len(arr)):\n",
    "        temp[i] = temp[i-1]*x + arr[i]\n",
    "    temp[-1] = temp[len(arr)-1]*x\n",
    "    return temp[-1]"
   ]
  },
  {
   "cell_type": "markdown",
   "metadata": {},
   "source": [
    "# Tìm các hệ số Cotes"
   ]
  },
  {
   "cell_type": "markdown",
   "metadata": {},
   "source": [
    "## Tính tích phân các đa thức trên tử"
   ]
  },
  {
   "cell_type": "code",
   "execution_count": 42,
   "metadata": {},
   "outputs": [],
   "source": [
    "def numeCoeffs(n: int) -> np.array:\n",
    "    vacantMatrix = np.zeros([n+1, n+1])\n",
    "    res = np.zeros(n+1)\n",
    "    for i in range(n+1):\n",
    "        vacantMatrix[i] = factorize_poly(n, i)\n",
    "        for j in range(n+1):\n",
    "            vacantMatrix[i][j] = 1/(n+1-j) * vacantMatrix[i][j]\n",
    "        for k in range(n+1):\n",
    "            res[k] = Horner(vacantMatrix[k], n)\n",
    "    return res"
   ]
  },
  {
   "cell_type": "markdown",
   "metadata": {},
   "source": [
    "## Tính các hệ số dưới mẫu"
   ]
  },
  {
   "cell_type": "code",
   "execution_count": 43,
   "metadata": {},
   "outputs": [],
   "source": [
    "def denoCoeffs(n: int) -> np.array:\n",
    "    res = np.ones(n+1)\n",
    "    for i in range(n+1):\n",
    "        for j in range(n+1):\n",
    "            if (j != i):\n",
    "                res[i] *= (i - j)\n",
    "    return res"
   ]
  },
  {
   "cell_type": "markdown",
   "metadata": {},
   "source": [
    "# Khai triển thuật toán"
   ]
  },
  {
   "cell_type": "code",
   "execution_count": 15,
   "metadata": {},
   "outputs": [
    {
     "name": "stdout",
     "output_type": "stream",
     "text": [
      "[-39.58333333  31.25       -10.41666667  10.41666667 -31.25\n",
      "  39.58333333]\n",
      "[-120.   24.  -12.   12.  -24.  120.]\n",
      "[0.06597222 0.26041667 0.17361111 0.17361111 0.26041667 0.06597222]\n"
     ]
    }
   ],
   "source": [
    "N = 5\n",
    "\n",
    "A = numeCoeffs(N)\n",
    "B = denoCoeffs(N)\n",
    "\n",
    "print(A, B, sep=\"\\n\")\n",
    "\n",
    "CotesCoeffs = np.divide(A, B) / N\n",
    "print(CotesCoeffs)"
   ]
  },
  {
   "cell_type": "code",
   "execution_count": 107,
   "metadata": {},
   "outputs": [],
   "source": [
    "def my_integrate(func, a, b, n):\n",
    "    nume = numeCoeffs(n)\n",
    "    deno = denoCoeffs(n)\n",
    "    CotesCoeffs = np.divide(nume, deno) / n\n",
    "\n",
    "    h = (b-a) / n   # step\n",
    "    res = 0\n",
    "    xn = a\n",
    "    for c in CotesCoeffs:\n",
    "        res += func.subs(t, xn) * c\n",
    "        xn  += h\n",
    "    res *= (b-a)\n",
    "    return res"
   ]
  },
  {
   "cell_type": "code",
   "execution_count": 108,
   "metadata": {},
   "outputs": [
    {
     "name": "stdout",
     "output_type": "stream",
     "text": [
      "60.0000000000000\n"
     ]
    }
   ],
   "source": [
    "integral = my_integrate(t**2+3, A, B, N)\n",
    "print(integral.round(5))"
   ]
  },
  {
   "cell_type": "markdown",
   "metadata": {},
   "source": [
    "### Kiểm tra"
   ]
  }
 ],
 "metadata": {
  "interpreter": {
   "hash": "e9b996d8c33e2f11134b2c9768025a724adbcb676594c0d251737f22579f88ae"
  },
  "kernelspec": {
   "display_name": "Python 3.9.6 64-bit",
   "language": "python",
   "name": "python3"
  },
  "language_info": {
   "codemirror_mode": {
    "name": "ipython",
    "version": 3
   },
   "file_extension": ".py",
   "mimetype": "text/x-python",
   "name": "python",
   "nbconvert_exporter": "python",
   "pygments_lexer": "ipython3",
   "version": "3.9.6"
  },
  "orig_nbformat": 4
 },
 "nbformat": 4,
 "nbformat_minor": 2
}
