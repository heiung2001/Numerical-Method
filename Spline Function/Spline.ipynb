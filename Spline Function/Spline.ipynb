{
 "cells": [
  {
   "cell_type": "markdown",
   "metadata": {},
   "source": [
    "# Hàm ghép trơn"
   ]
  },
  {
   "cell_type": "markdown",
   "metadata": {},
   "source": [
    "<b>Xét bài toán:</b>\n",
    "\n",
    "Cho bộ điểm $(x_i, y_i)_{i=1,n}$. Tìm hàm ghép\n",
    "$$S(x) = S_k(x), x \\in [x_k, x_{k+1}], \\hspace{1cm} k=\\bar{0, n-1}$$\n",
    "thỏa mãn $S_k(x)$ là đa thức bậc $p$, $S(x)$ trơn đến cấp $p-1$ ($S(x) \\in C^{p-1}[a,b])$."
   ]
  },
  {
   "cell_type": "markdown",
   "metadata": {},
   "source": [
    "### Import packages"
   ]
  },
  {
   "cell_type": "code",
   "execution_count": 61,
   "metadata": {},
   "outputs": [],
   "source": [
    "import numpy as np\n",
    "import matplotlib.pyplot as plt\n",
    "from sympy import Symbol, expand"
   ]
  },
  {
   "cell_type": "markdown",
   "metadata": {},
   "source": [
    "### Input chương trình"
   ]
  },
  {
   "cell_type": "code",
   "execution_count": 62,
   "metadata": {},
   "outputs": [],
   "source": [
    "x = []\n",
    "y = []\n",
    "with open('input.txt', 'r+') as f:\n",
    "    for line in f.readlines():\n",
    "        xt = float(line.split(' ')[0])\n",
    "        yt = float(line.split(' ')[1])\n",
    "        check = True\n",
    "        for x_check in x:\n",
    "            if x_check == xt:\n",
    "                check = False\n",
    "                break\n",
    "        if check:\n",
    "            x.append(xt)\n",
    "            y.append(yt)\n",
    "x = np.array(x)\n",
    "y = np.array(y)\n",
    "h = np.diff(x)\n",
    "n = len(x) - 1"
   ]
  },
  {
   "cell_type": "markdown",
   "metadata": {},
   "source": [
    "## Spline cấp 1 ($p=1$)"
   ]
  },
  {
   "cell_type": "markdown",
   "metadata": {},
   "source": [
    "Khi đó, $S_k=a_kx+b_k, \\hspace{.3cm} x \\in [x_k, x_{k+1}]$ là các đường thẳng"
   ]
  },
  {
   "cell_type": "code",
   "execution_count": 63,
   "metadata": {},
   "outputs": [],
   "source": [
    "def Spline_1(loop_points):\n",
    "    y_found = []\n",
    "    \n",
    "    for elm in loop_points:\n",
    "        for i in range(1, n+1):\n",
    "            if (x[i-1] <= elm <= x[i]):\n",
    "                alpha = y[i-1]/h[i-1]\n",
    "                beta  = y[i]/h[i-1]\n",
    "                y_found.append(alpha*(x[i]-elm) + beta*(elm-x[i-1]))\n",
    "                \n",
    "    for i in range(1, n+1):\n",
    "        alpha = y[i-1]/h[i-1]\n",
    "        beta  = y[i]/h[i-1]\n",
    "        bound = \"S1[\"+str(x[i-1])+', '+str(x[i])+'] = '\n",
    "        func  = str(round(alpha,3))+'('+str(x[i])+'-x)'+'+'+str(round(beta,3))+'(x-'+str(x[i-1])+')'\n",
    "        print(bound + func)\n",
    "    return y_found"
   ]
  },
  {
   "cell_type": "code",
   "execution_count": 64,
   "metadata": {},
   "outputs": [
    {
     "name": "stdout",
     "output_type": "stream",
     "text": [
      "S1[0.0, 0.52] = 0.0(0.52-x)+0.962(x-0.0)\n",
      "S1[0.52, 1.05] = 0.943(1.05-x)+1.642(x-0.52)\n",
      "S1[1.05, 1.57] = 1.673(1.57-x)+1.923(x-1.05)\n",
      "S1[1.57, 2.09] = 1.923(2.09-x)+1.673(x-1.57)\n",
      "S1[2.09, 2.62] = 1.642(2.62-x)+0.943(x-2.09)\n",
      "S1[2.62, 3.14] = 0.962(3.14-x)+0.0(x-2.62)\n",
      "S1[3.14, 3.66] = 0.0(3.66-x)+-0.962(x-3.14)\n",
      "S1[3.66, 4.17] = -0.98(4.17-x)+-1.706(x-3.66)\n",
      "S1[4.17, 4.71] = -1.611(4.71-x)+-1.852(x-4.17)\n",
      "S1[4.71, 5.23] = -1.923(5.23-x)+-1.673(x-4.71)\n",
      "S1[5.23, 5.76] = -1.642(5.76-x)+-0.943(x-5.23)\n",
      "S1[5.76, 6.28] = -0.962(6.28-x)+0.0(x-5.76)\n"
     ]
    },
    {
     "data": {
      "image/png": "[encoded data removed]",
      "text/plain": [
       "<Figure size 432x288 with 1 Axes>"
      ]
     },
     "metadata": {
      "needs_background": "light"
     },
     "output_type": "display_data"
    }
   ],
   "source": [
    "X  = np.linspace(x[0], x[n], 1000)\n",
    "y1 = Spline_1(X)\n",
    "\n",
    "plt.plot(X, y1)\n",
    "plt.show()"
   ]
  },
  {
   "cell_type": "markdown",
   "metadata": {},
   "source": [
    "## Spline cấp 2 ($p=2$)"
   ]
  },
  {
   "cell_type": "markdown",
   "metadata": {},
   "source": [
    "Ta có bộ điểm $\\{(x_k, y_k)\\}_{k=\\bar{0, n}}$, gồm 2 điểm biên và $n-1$ điểm nối"
   ]
  },
  {
   "cell_type": "markdown",
   "metadata": {},
   "source": [
    "$$S(x)=\n",
    "-\\frac{m_{j-1}}{2h_j}(x_j-x)^2 +\n",
    "\\frac{m_j}{2h_j}(x-x_{j-1})^2 +\n",
    "(y_j - \\frac{m_j}{2}h_j)\n",
    "$$"
   ]
  },
  {
   "cell_type": "code",
   "execution_count": 71,
   "metadata": {},
   "outputs": [],
   "source": [
    "def Spline_2(loop_points):\n",
    "    y_found = []\n",
    "    m = np.empty(n+1)\n",
    "    \n",
    "    m[0]=(y[1]-y[0])/h[0]\n",
    "    for i in range(1,n+1):\n",
    "        m[i]=2/h[i-1]*(y[i]-y[i-1])-m[i-1]\n",
    "    \n",
    "    for elm in loop_points:\n",
    "        for i in range(1, n+1):\n",
    "            if (x[i-1] <= elm <= x[i]):\n",
    "                p1 = (-m[i-1]/(2*h[i-1])) * (x[i]-elm)**2\n",
    "                p2 = (m[i]/(2*h[i-1]))    * (elm-x[i-1])**2\n",
    "                p3 = y[i] - (m[i]/2)*h[i-1]\n",
    "                y_found.append(p1 + p2 + p3)\n",
    "    \n",
    "    for i in range(1, n+1):\n",
    "        p1 = -m[i-1]/(2*h[i-1])\n",
    "        p2 = (m[i]/(2*h[i-1]))\n",
    "        p3 = y[i] - (m[i]/2)*h[i-1]\n",
    "        bound = \"S2[\"+str(x[i-1])+', '+str(x[i])+'] = '\n",
    "        func  = str(round(p1,3)) +'('  + str(x[i])   + '-x)^2+'  + \\\n",
    "                str(round(p2,3)) +'(x-'+ str(x[i-1]) + ')^2'+'+' + \\\n",
    "                str(round(p3,3))\n",
    "        print(bound + func)\n",
    "    return y_found"
   ]
  },
  {
   "cell_type": "code",
   "execution_count": 72,
   "metadata": {},
   "outputs": [
    {
     "name": "stdout",
     "output_type": "stream",
     "text": [
      "S2[0.0, 0.52] = -0.925(0.52-x)^2+0.925(x-0.0)^2+0.25\n",
      "S2[0.52, 1.05] = -0.907(1.05-x)^2+0.41(x-0.52)^2+0.755\n",
      "S2[1.05, 1.57] = -0.418(1.57-x)^2+0.063(x-1.05)^2+0.983\n",
      "S2[1.57, 2.09] = -0.063(2.09-x)^2+-0.544(x-1.57)^2+1.017\n",
      "S2[2.09, 2.62] = 0.533(2.62-x)^2+-0.784(x-2.09)^2+0.72\n",
      "S2[2.62, 3.14] = 0.799(3.14-x)^2+-1.05(x-2.62)^2+0.284\n",
      "S2[3.14, 3.66] = 1.05(3.66-x)^2+-0.799(x-3.14)^2+-0.284\n",
      "S2[3.66, 4.17] = 0.815(4.17-x)^2+-0.608(x-3.66)^2+-0.712\n",
      "S2[4.17, 4.71] = 0.574(4.71-x)^2+0.128(x-4.17)^2+-1.037\n",
      "S2[4.71, 5.23] = -0.133(5.23-x)^2+0.348(x-4.71)^2+-0.964\n",
      "S2[5.23, 5.76] = -0.341(5.76-x)^2+0.976(x-5.23)^2+-0.774\n",
      "S2[5.76, 6.28] = -0.995(6.28-x)^2+0.854(x-5.76)^2+-0.231\n"
     ]
    },
    {
     "data": {
      "image/png": "[encoded data removed]",
      "text/plain": [
       "<Figure size 432x288 with 1 Axes>"
      ]
     },
     "metadata": {
      "needs_background": "light"
     },
     "output_type": "display_data"
    }
   ],
   "source": [
    "X  = np.linspace(x[0], x[n], 1000)\n",
    "y2 = Spline_2(X)\n",
    "\n",
    "plt.plot(X, y2)\n",
    "plt.show()"
   ]
  },
  {
   "cell_type": "markdown",
   "metadata": {},
   "source": [
    "## Spline cấp 3 $(p=3)$"
   ]
  },
  {
   "cell_type": "markdown",
   "metadata": {},
   "source": [
    "$$S(x)=\n",
    "\\frac{m_{j-1}}{6h_j}(x_j-x)^3 +\n",
    "\\frac{m_j}{6h_j}(x-x_{j-1})^3 +\n",
    "\\frac{1}{h_j}(y_{j-1}-\\frac{m_{j-1}}{6}h_j^2)(x_j-x) +\n",
    "\\frac{1}{h_j}(y_j-\\frac{m_{j-1}}{6}h_j^2)(x-x_j)\n",
    "$$"
   ]
  },
  {
   "cell_type": "code",
   "execution_count": 68,
   "metadata": {},
   "outputs": [],
   "source": [
    "def m_coeff(x, y, n):\n",
    "    m = np.empty(n+1)\n",
    "    d = np.empty(n+1)\n",
    "    anpha = np.empty(n+1)\n",
    "    beta = np.empty(n+1)\n",
    "    muy = np.empty(n+1)\n",
    "    lamda = np.empty(n+1)\n",
    "    h = np.diff(x)\n",
    "    dh0 = (y[1]-y[0])/(x[1]-x[0])\n",
    "    dhn = (y[n]-y[n-1])/(x[n]-x[n-1])\n",
    "    d[0] = 6/h[0]*((y[1]-y[0])/h[0]-dh0)\n",
    "    d[n] = 6/h[n-1]*(dhn-(y[n]-y[n-1])/h[n-1])\n",
    "    anpha[1] = 1/(-2)\n",
    "    beta[1] = d[0]/2\n",
    "    for i in range(1,n):\n",
    "        d[i] = 6*((y[i+1]-y[i])/h[i]-(y[i]-y[i-1])/h[i-1])/(h[i]+h[i-1])\n",
    "    for i in range(1,n):\n",
    "        muy[i] = h[i-1]/(h[i-1]+h[i])\n",
    "        lamda[i] = h[i]/(h[i-1]+h[i])\n",
    "    for i in range(1,n):\n",
    "        anpha[i+1] = lamda[i]/(-2-anpha[i]*muy[i])\n",
    "        beta[i+1] = (muy[i]*beta[i]-d[i])/(-2-anpha[i]*muy[i])\n",
    "    m[n] = (1*beta[n]-d[n])/(-2-1*anpha[n])\n",
    "    for i in range(n-1,-1,-1):\n",
    "        m[i] = anpha[i+1]*m[i+1]+beta[i+1]\n",
    "    return m"
   ]
  },
  {
   "cell_type": "code",
   "execution_count": 69,
   "metadata": {},
   "outputs": [],
   "source": [
    "def Spline_3(loop_points):\n",
    "    y_found = []\n",
    "    m = m_coeff(x, y, n)\n",
    "\n",
    "    for elm in loop_points:\n",
    "        for i in range(1, n+1):\n",
    "            if (x[i-1] <= elm <= x[i]):\n",
    "                p1 = (m[i-1]/(6*h[i-1])) * (x[i]-elm)**3\n",
    "                p2 = (m[i]/(h[i-1]*6))   * (elm-x[i-1])**3\n",
    "                p3 = (1/h[i-1]) * (y[i-1] - (m[i-1]/6)*h[i-1]**2) * (x[i]-elm)\n",
    "                p4 = (1/h[i-1]) * (y[i]   - (m[i]/6)*h[i-1]**2)   * (elm-x[i-1])\n",
    "                y_found.append(p1 + p2 + p3 + p4)\n",
    "    \n",
    "    for i in range(1, n+1):\n",
    "        p1 = (m[i-1]/(6*h[i-1]))\n",
    "        p2 = (m[i]/(h[i-1]*6))\n",
    "        p3 = (1/h[i-1]) * (y[i-1] - (m[i-1]/6)*h[i-1]**2)\n",
    "        p4 = (1/h[i-1]) * (y[i]   - (m[i]/6)*h[i-1]**2)\n",
    "        bound = \"S3[\"+str(x[i-1])+', '+str(x[i])+'] = '\n",
    "        func  = str(round(p1,3)) + '('   + str(x[i])   + '- x)^3' + '+ '+ \\\n",
    "                str(round(p2,3)) + '(x-' + str(x[i-1]) + ')^3'    + '+ ' + \\\n",
    "                str(round(p3,3)) + '('   + str(x[i])   + '-x)'    + '+ ' + \\\n",
    "                str(round(p4,3)) + '(x-' + str(x[i-1]) + ')'\n",
    "        print(bound + func)\n",
    "    return y_found"
   ]
  },
  {
   "cell_type": "code",
   "execution_count": 70,
   "metadata": {},
   "outputs": [
    {
     "name": "stdout",
     "output_type": "stream",
     "text": [
      "S3[0.0, 0.52] = 0.097(0.52- x)^3+ -0.194(x-0.0)^3+ -0.026(0.52-x)+ 1.014(x-0.0)\n",
      "S3[0.52, 1.05] = -0.19(1.05- x)^3+ -0.277(x-0.52)^3+ 0.997(1.05-x)+ 1.719(x-0.52)\n",
      "S3[1.05, 1.57] = -0.282(1.57- x)^3+ -0.32(x-1.05)^3+ 1.749(1.57-x)+ 2.01(x-1.05)\n",
      "S3[1.57, 2.09] = -0.32(2.09- x)^3+ -0.288(x-1.57)^3+ 2.01(2.09-x)+ 1.751(x-1.57)\n",
      "S3[2.09, 2.62] = -0.283(2.62- x)^3+ -0.168(x-2.09)^3+ 1.721(2.62-x)+ 0.99(x-2.09)\n",
      "S3[2.62, 3.14] = -0.171(3.14- x)^3+ 0.009(x-2.62)^3+ 1.008(3.14-x)+ -0.002(x-2.62)\n",
      "S3[3.14, 3.66] = 0.009(3.66- x)^3+ 0.135(x-3.14)^3+ -0.002(3.66-x)+ -0.998(x-3.14)\n",
      "S3[3.66, 4.17] = 0.137(4.17- x)^3+ 0.344(x-3.66)^3+ -1.016(4.17-x)+ -1.795(x-3.66)\n",
      "S3[4.17, 4.71] = 0.325(4.71- x)^3+ 0.277(x-4.17)^3+ -1.706(4.71-x)+ -1.933(x-4.17)\n",
      "S3[4.71, 5.23] = 0.288(5.23- x)^3+ 0.291(x-4.71)^3+ -2.001(5.23-x)+ -1.752(x-4.71)\n",
      "S3[5.23, 5.76] = 0.285(5.76- x)^3+ 0.188(x-5.23)^3+ -1.722(5.76-x)+ -0.996(x-5.23)\n",
      "S3[5.76, 6.28] = 0.192(6.28- x)^3+ -0.096(x-5.76)^3+ -1.013(6.28-x)+ 0.026(x-5.76)\n"
     ]
    },
    {
     "data": {
      "image/png": "[encoded data removed]",
      "text/plain": [
       "<Figure size 432x288 with 1 Axes>"
      ]
     },
     "metadata": {
      "needs_background": "light"
     },
     "output_type": "display_data"
    }
   ],
   "source": [
    "X  = np.linspace(x[0], x[n], 1000)\n",
    "y3 = Spline_3(X)\n",
    "\n",
    "plt.plot(X, y3)\n",
    "plt.show()"
   ]
  },
  {
   "cell_type": "markdown",
   "metadata": {},
   "source": [
    "## Kết quả thử nghiệm"
   ]
  },
  {
   "cell_type": "code",
   "execution_count": 76,
   "metadata": {},
   "outputs": [
    {
     "name": "stdout",
     "output_type": "stream",
     "text": [
      "S1[0.0, 0.52] = 0.0(0.52-x)+0.962(x-0.0)\n",
      "S1[0.52, 1.05] = 0.943(1.05-x)+1.642(x-0.52)\n",
      "S1[1.05, 1.57] = 1.673(1.57-x)+1.923(x-1.05)\n",
      "S1[1.57, 2.09] = 1.923(2.09-x)+1.673(x-1.57)\n",
      "S1[2.09, 2.62] = 1.642(2.62-x)+0.943(x-2.09)\n",
      "S1[2.62, 3.14] = 0.962(3.14-x)+0.0(x-2.62)\n",
      "S1[3.14, 3.66] = 0.0(3.66-x)+-0.962(x-3.14)\n",
      "S1[3.66, 4.17] = -0.98(4.17-x)+-1.706(x-3.66)\n",
      "S1[4.17, 4.71] = -1.611(4.71-x)+-1.852(x-4.17)\n",
      "S1[4.71, 5.23] = -1.923(5.23-x)+-1.673(x-4.71)\n",
      "S1[5.23, 5.76] = -1.642(5.76-x)+-0.943(x-5.23)\n",
      "S1[5.76, 6.28] = -0.962(6.28-x)+0.0(x-5.76)\n",
      "S2[0.0, 0.52] = -0.925(0.52-x)^2+0.925(x-0.0)^2+0.25\n",
      "S2[0.52, 1.05] = -0.907(1.05-x)^2+0.41(x-0.52)^2+0.755\n",
      "S2[1.05, 1.57] = -0.418(1.57-x)^2+0.063(x-1.05)^2+0.983\n",
      "S2[1.57, 2.09] = -0.063(2.09-x)^2+-0.544(x-1.57)^2+1.017\n",
      "S2[2.09, 2.62] = 0.533(2.62-x)^2+-0.784(x-2.09)^2+0.72\n",
      "S2[2.62, 3.14] = 0.799(3.14-x)^2+-1.05(x-2.62)^2+0.284\n",
      "S2[3.14, 3.66] = 1.05(3.66-x)^2+-0.799(x-3.14)^2+-0.284\n",
      "S2[3.66, 4.17] = 0.815(4.17-x)^2+-0.608(x-3.66)^2+-0.712\n",
      "S2[4.17, 4.71] = 0.574(4.71-x)^2+0.128(x-4.17)^2+-1.037\n",
      "S2[4.71, 5.23] = -0.133(5.23-x)^2+0.348(x-4.71)^2+-0.964\n",
      "S2[5.23, 5.76] = -0.341(5.76-x)^2+0.976(x-5.23)^2+-0.774\n",
      "S2[5.76, 6.28] = -0.995(6.28-x)^2+0.854(x-5.76)^2+-0.231\n",
      "S3[0.0, 0.52] = 0.097(0.52- x)^3+ -0.194(x-0.0)^3+ -0.026(0.52-x)+ 1.014(x-0.0)\n",
      "S3[0.52, 1.05] = -0.19(1.05- x)^3+ -0.277(x-0.52)^3+ 0.997(1.05-x)+ 1.719(x-0.52)\n",
      "S3[1.05, 1.57] = -0.282(1.57- x)^3+ -0.32(x-1.05)^3+ 1.749(1.57-x)+ 2.01(x-1.05)\n",
      "S3[1.57, 2.09] = -0.32(2.09- x)^3+ -0.288(x-1.57)^3+ 2.01(2.09-x)+ 1.751(x-1.57)\n",
      "S3[2.09, 2.62] = -0.283(2.62- x)^3+ -0.168(x-2.09)^3+ 1.721(2.62-x)+ 0.99(x-2.09)\n",
      "S3[2.62, 3.14] = -0.171(3.14- x)^3+ 0.009(x-2.62)^3+ 1.008(3.14-x)+ -0.002(x-2.62)\n",
      "S3[3.14, 3.66] = 0.009(3.66- x)^3+ 0.135(x-3.14)^3+ -0.002(3.66-x)+ -0.998(x-3.14)\n",
      "S3[3.66, 4.17] = 0.137(4.17- x)^3+ 0.344(x-3.66)^3+ -1.016(4.17-x)+ -1.795(x-3.66)\n",
      "S3[4.17, 4.71] = 0.325(4.71- x)^3+ 0.277(x-4.17)^3+ -1.706(4.71-x)+ -1.933(x-4.17)\n",
      "S3[4.71, 5.23] = 0.288(5.23- x)^3+ 0.291(x-4.71)^3+ -2.001(5.23-x)+ -1.752(x-4.71)\n",
      "S3[5.23, 5.76] = 0.285(5.76- x)^3+ 0.188(x-5.23)^3+ -1.722(5.76-x)+ -0.996(x-5.23)\n",
      "S3[5.76, 6.28] = 0.192(6.28- x)^3+ -0.096(x-5.76)^3+ -1.013(6.28-x)+ 0.026(x-5.76)\n"
     ]
    },
    {
     "data": {
      "image/png": "[encoded data removed]",
      "text/plain": [
       "<Figure size 432x288 with 1 Axes>"
      ]
     },
     "metadata": {
      "needs_background": "light"
     },
     "output_type": "display_data"
    }
   ],
   "source": [
    "X  = np.linspace(x[0], x[n], 1000)\n",
    "y1 = Spline_1(X)\n",
    "y2 = Spline_2(X)\n",
    "y3 = Spline_3(X)\n",
    "\n",
    "plt.plot(X, y1, 'black')\n",
    "plt.plot(X, y2, 'blue')\n",
    "plt.plot(X, y3, 'red')\n",
    "\n",
    "plt.show()"
   ]
  }
 ],
 "metadata": {
  "interpreter": {
   "hash": "e9b996d8c33e2f11134b2c9768025a724adbcb676594c0d251737f22579f88ae"
  },
  "kernelspec": {
   "display_name": "Python 3.9.6 64-bit",
   "language": "python",
   "name": "python3"
  },
  "language_info": {
   "codemirror_mode": {
    "name": "ipython",
    "version": 3
   },
   "file_extension": ".py",
   "mimetype": "text/x-python",
   "name": "python",
   "nbconvert_exporter": "python",
   "pygments_lexer": "ipython3",
   "version": "3.9.6"
  },
  "orig_nbformat": 4
 },
 "nbformat": 4,
 "nbformat_minor": 2
}
