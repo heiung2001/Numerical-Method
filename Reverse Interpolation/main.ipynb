{
 "cells": [
  {
   "cell_type": "markdown",
   "metadata": {},
   "source": [
    "# Nội suy ngược"
   ]
  },
  {
   "cell_type": "markdown",
   "metadata": {},
   "source": [
    "<b>Bài toán:</b>\n",
    "Tìm x biết $f(x)=y$ trong đó, hàm $f(x)$ chỉ có dạng bảng\n",
    "\n",
    "<b>Ý tưởng:</b>\n",
    "\n",
    "<ol>\n",
    "<li>Xác định khoảng cách ly:\n",
    "<ul>\n",
    "    <li> Xác định các khoảng đơn điệu</li>\n",
    "    <li> Xác định khoảng đơn điệu có chứa nghiệm</li>\n",
    "</ul></li>\n",
    "<li>Tìm nghiệm trên khoảng đơn điệu có chứa nghiệm hoặc khoảng <i>không</i> đơn điệu nhưng có nghiệm duy nhất</li>\n",
    "</ol>\n",
    "\n",
    "<b>Hai phương pháp tìm nghiệm</b>\n",
    "\n",
    "PP1: Xây dựng xấp xỉ của hàm ngược \\\n",
    "    Hàm đơn điệu $[a,b] \\rightarrow Im([a,b])$ là hàm song ánh => tồn tại ánh xạ ngược $Im([a,b]) \\rightarrow [a,b]: x=g(y)$ \\\n",
    "    Điều kiện mốc nội suy $x_i \\neq x_j \\forall i \\neq j \\Rightarrow y_i \\neq y_j \\forall i \\neq j$ \\\n",
    "    Xem y là ẩn, $x=g(y) \\approx P_n(y)$ là hàm \n",
    "\n",
    "PP2: Phương pháp lặp để tìm nghiệm\n",
    "<ul>\n",
    "<li>Chọn 2 mốc liên tiếp chặn trên, chặn dưới của nghiệm</li>\n",
    "<li>Nếu chọn mốc chặn dưới, xây dựng công thức lặp từ đa thức nội suy Newton tiến. Nếu chọn mốc chặn trên thì Newton lùi.(Chọn bên nào có ít mốc hơn)</li>\n",
    "</ul>\n",
    "\n",
    "Xét trường hợp chọn mốc bên trái, ta có:\n",
    "$$P_n(x_k+th)=y_k+\\Delta y_kt + \\frac{\\Delta^2y_k}{2!}t(t-1)+... = \\bar y $$\n",
    "Khi đó,\n",
    "$$\\begin{cases}\n",
    "t &=& \\frac{1}{\\Delta y_k}[\\bar y - y_k - (\\frac{\\Delta^2y_k}{2!}t(t-1)+...)] = \\phi(t) \\\\\n",
    "t_0 &=& \\frac{\\bar y - y_k}{\\Delta y_k}, \\hspace{.2cm} t_{i+1} = \\phi(t_i)\n",
    "\\end{cases}$$\n",
    "Sai số,\n",
    "$$\\frac{|t_{i+1}-t_i|}{|t_{i+1}|} < \\delta$$"
   ]
  },
  {
   "cell_type": "markdown",
   "metadata": {},
   "source": [
    "### Import packages"
   ]
  },
  {
   "cell_type": "code",
   "execution_count": 1,
   "metadata": {},
   "outputs": [],
   "source": [
    "import numpy as np\n",
    "import matplotlib.pyplot as plt"
   ]
  },
  {
   "cell_type": "markdown",
   "metadata": {},
   "source": [
    "### Input chương trình"
   ]
  },
  {
   "cell_type": "code",
   "execution_count": 2,
   "metadata": {},
   "outputs": [],
   "source": [
    "def input_data():\n",
    "    x_t: list[float] = []\n",
    "    y_t: list[float] = []\n",
    "    with open('input.txt', 'r+') as f:\n",
    "        for line in f.readlines():\n",
    "            x_temp = float(line.split(' ')[0])\n",
    "            y_temp = float(line.split(' ')[1])\n",
    "            if x_temp in x_t:\n",
    "                continue\n",
    "            x_t.append(x_temp)\n",
    "            y_t.append(y_temp)\n",
    "    f.close()\n",
    "    return x_t, y_t"
   ]
  },
  {
   "cell_type": "code",
   "execution_count": 4,
   "metadata": {},
   "outputs": [],
   "source": [
    "def is_equidistant(vec):\n",
    "    h = np.diff(vec)\n",
    "    for i in range(len(h)-1):\n",
    "        if abs(h[i] - h[i+1]) >= 1e-7:\n",
    "            return False\n",
    "    return True"
   ]
  }
 ],
 "metadata": {
  "interpreter": {
   "hash": "e9b996d8c33e2f11134b2c9768025a724adbcb676594c0d251737f22579f88ae"
  },
  "kernelspec": {
   "display_name": "Python 3.9.6 64-bit",
   "language": "python",
   "name": "python3"
  },
  "language_info": {
   "codemirror_mode": {
    "name": "ipython",
    "version": 3
   },
   "file_extension": ".py",
   "mimetype": "text/x-python",
   "name": "python",
   "nbconvert_exporter": "python",
   "pygments_lexer": "ipython3",
   "version": "3.9.6"
  },
  "orig_nbformat": 4
 },
 "nbformat": 4,
 "nbformat_minor": 2
}
