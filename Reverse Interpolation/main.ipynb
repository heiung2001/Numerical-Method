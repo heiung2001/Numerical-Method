{
 "cells": [
  {
   "cell_type": "markdown",
   "metadata": {},
   "source": [
    "# Nội suy ngược"
   ]
  },
  {
   "cell_type": "markdown",
   "metadata": {},
   "source": [
    "<b>Bài toán:</b>\n",
    "Tìm x biết $f(x)=y$ trong đó, hàm $f(x)$ chỉ có dạng bảng\n",
    "\n",
    "<b>Ý tưởng:</b>\n",
    "\n",
    "<ol>\n",
    "<li>Xác định khoảng cách ly:\n",
    "<ul>\n",
    "    <li> Xác định các khoảng đơn điệu</li>\n",
    "    <li> Xác định khoảng đơn điệu có chứa nghiệm</li>\n",
    "</ul></li>\n",
    "<li>Tìm nghiệm trên khoảng đơn điệu có chứa nghiệm hoặc khoảng <i>không</i> đơn điệu nhưng có nghiệm duy nhất</li>\n",
    "</ol>\n",
    "\n",
    "<b>Hai phương pháp tìm nghiệm</b>\n",
    "\n",
    "PP1: Xây dựng xấp xỉ của hàm ngược \\\n",
    "    Hàm đơn điệu $[a,b] \\rightarrow Im([a,b])$ là hàm song ánh => tồn tại ánh xạ ngược $Im([a,b]) \\rightarrow [a,b]: x=g(y)$ \\\n",
    "    Điều kiện mốc nội suy $x_i \\neq x_j \\forall i \\neq j \\Rightarrow y_i \\neq y_j \\forall i \\neq j$ \\\n",
    "    Xem y là ẩn, $x=g(y) \\approx P_n(y)$ là hàm \n",
    "\n",
    "PP2: Phương pháp lặp để tìm nghiệm\n",
    "<ul>\n",
    "<li>Chọn 2 mốc liên tiếp chặn trên, chặn dưới của nghiệm</li>\n",
    "<li>Nếu chọn mốc chặn dưới, xây dựng công thức lặp từ đa thức nội suy Newton tiến. Nếu chọn mốc chặn trên thì Newton lùi.(Chọn bên nào có ít mốc hơn)</li>\n",
    "</ul>\n",
    "\n",
    "Xét trường hợp chọn mốc bên trái, ta có:\n",
    "$$P_n(x_k+th)=y_k+\\Delta y_kt + \\frac{\\Delta^2y_k}{2!}t(t-1)+... = \\bar y $$\n",
    "Khi đó,\n",
    "$$\\begin{cases}\n",
    "t &=& \\frac{1}{\\Delta y_k}[\\bar y - y_k - (\\frac{\\Delta^2y_k}{2!}t(t-1)+...)] = \\phi(t) \\\\\n",
    "t_0 &=& \\frac{\\bar y - y_k}{\\Delta y_k}, \\hspace{.2cm} t_{i+1} = \\phi(t_i)\n",
    "\\end{cases}$$\n",
    "Sai số,\n",
    "$$\\frac{|t_{i+1}-t_i|}{|t_{i+1}|} < \\delta$$"
   ]
  },
  {
   "cell_type": "markdown",
   "metadata": {},
   "source": [
    "### Import packages"
   ]
  },
  {
   "cell_type": "code",
   "execution_count": 18,
   "metadata": {},
   "outputs": [],
   "source": [
    "from termcolor        import colored\n",
    "from math             import *\n",
    "from sympy            import *\n",
    "# from customDecorator  import * \n",
    "\n",
    "import matplotlib.pyplot as plt\n",
    "import numpy             as np\n",
    "import sys \n",
    "import time "
   ]
  },
  {
   "cell_type": "markdown",
   "metadata": {},
   "source": [
    "### Input chương trình"
   ]
  },
  {
   "cell_type": "code",
   "execution_count": 6,
   "metadata": {},
   "outputs": [],
   "source": [
    "EPSILON_SYS   = 1e-15 \n",
    "EPSILON       = 1e-6\n",
    "MAXIMUM_POINT = 6 "
   ]
  },
  {
   "cell_type": "code",
   "execution_count": 4,
   "metadata": {},
   "outputs": [
    {
     "name": "stdout",
     "output_type": "stream",
     "text": [
      "[1.1, 1.2, 1.3, 1.4, 1.5, 1.6, 1.7, 1.8, 1.9, 2.0, 2.1, 2.2, 2.3, 2.4, 2.5, 2.6, 2.7, 2.8, 2.9, 3.0, 3.1]\n",
      "[0.171, 0.288, 0.357, 0.384, 0.375, 0.336, 0.273, 0.192, 0.099, 0.0, -0.099, -0.192, -0.273, -0.336, -0.375, -0.384, -0.357, -0.288, -0.171, 0.0, 0.231]\n"
     ]
    }
   ],
   "source": [
    "def input_data():\n",
    "    x_arr = []\n",
    "    y_arr = []\n",
    "\n",
    "    with open('input.txt', 'r+') as f:\n",
    "        lines = f.readlines()\n",
    "        for elm in lines[0].split(' '):\n",
    "            x_arr.append(float(elm))\n",
    "        for elm in lines[1].split(' '):\n",
    "            y_arr.append(float(elm))\n",
    "    \n",
    "    return x_arr, y_arr\n",
    "\n",
    "x, y = input_data()\n",
    "print(x, y, sep='\\n')"
   ]
  },
  {
   "cell_type": "code",
   "execution_count": 7,
   "metadata": {},
   "outputs": [
    {
     "name": "stdout",
     "output_type": "stream",
     "text": [
      "[[0, 1, 2, 3], [6, 7, 8, 9, 10, 11], [20, 19, 18, 17, 16, 15]]\n"
     ]
    }
   ],
   "source": [
    "def Monnotonous_Parts(x_arr, y_arr):\n",
    "    extreme_idx = [0]\n",
    "    \n",
    "    for i in range(1, len(y_arr) - 1):\n",
    "        if y_arr[i] > max(y_arr[i - 1], y_arr[i + 1]) or y_arr[i] < min(y_arr[i - 1], y_arr[i + 1]):\n",
    "            extreme_idx.append(i)\n",
    "        else:\n",
    "            continue\n",
    "    \n",
    "    extreme_idx.append(len(y_arr) - 1)\n",
    "\n",
    "    mp_idx_list = [] \n",
    "\n",
    "    for j in range(len(extreme_idx) - 1):\n",
    "        index_range = range(extreme_idx[j], extreme_idx[j + 1] + 1)\n",
    "        mp_idx = [x for x in index_range] # mp is short for \"monotonous partition\"\n",
    "        \n",
    "        mp_idx_list.append(mp_idx) \n",
    "\n",
    "    return mp_idx_list\n",
    "\n",
    "def Sub_Monotonous_Parts(x_arr, y_arr, value_y):\n",
    "    mp_idx_list = Monnotonous_Parts(x_arr, y_arr)\n",
    "    smp_idx_list = [] \n",
    "    \n",
    "    for mp_idx in mp_idx_list:\n",
    "        # Make sure the par is monotonically increase\n",
    "        sign = 1 # sign = 1 if monotonically increase, sign = -1 if monotonically decrease\n",
    "        if y_arr[mp_idx[0]] > y_arr[mp_idx[1]]:\n",
    "            sign *= -1 \n",
    "\n",
    "        if value_y > max(y_arr[mp_idx[0]], y_arr[mp_idx[-1]]) or value_y < min(y_arr[mp_idx[0]], y_arr[mp_idx[-1]]):\n",
    "            continue \n",
    "\n",
    "        # Find the index of two neiboor nearest value of y using binary search\n",
    "        left_idx  = mp_idx[0]\n",
    "        right_idx = mp_idx[-1] \n",
    "            \n",
    "        while True:\n",
    "            idx = int((left_idx + right_idx) / 2) \n",
    "            if (value_y - y_arr[idx]) * sign > 0:\n",
    "                left_idx = idx \n",
    "            else: \n",
    "                right_idx = idx \n",
    "                    \n",
    "            if right_idx - left_idx == 1: \n",
    "                break \n",
    "\n",
    "        # return sub table of y \n",
    "        if left_idx + right_idx > mp_idx[0] + mp_idx[-1]:\n",
    "            right_bound = right_idx \n",
    "            left_bound  = max(right_idx - MAXIMUM_POINT + 1, mp_idx[0]) \n",
    "            idx_range   = range(left_bound, right_bound + 1)\n",
    "        \n",
    "            smp = [i for i in idx_range][::-1] # Short for \"sub monotonous partition\"\n",
    "        else:\n",
    "            left_bound  = left_idx \n",
    "            right_bound = min(left_idx + MAXIMUM_POINT - 1, mp_idx[-1])\n",
    "            idx_range   = range(left_bound, right_bound + 1)\n",
    "        \n",
    "            smp = [i for i in idx_range]\n",
    "\n",
    "        smp_idx_list.append(smp)  \n",
    "\n",
    "    return smp_idx_list\n",
    "\n",
    "test = Sub_Monotonous_Parts(x, y, 0.2)\n",
    "print(test)"
   ]
  }
 ],
 "metadata": {
  "interpreter": {
   "hash": "e9b996d8c33e2f11134b2c9768025a724adbcb676594c0d251737f22579f88ae"
  },
  "kernelspec": {
   "display_name": "Python 3.9.6 64-bit",
   "language": "python",
   "name": "python3"
  },
  "language_info": {
   "codemirror_mode": {
    "name": "ipython",
    "version": 3
   },
   "file_extension": ".py",
   "mimetype": "text/x-python",
   "name": "python",
   "nbconvert_exporter": "python",
   "pygments_lexer": "ipython3",
   "version": "3.9.6"
  },
  "orig_nbformat": 4
 },
 "nbformat": 4,
 "nbformat_minor": 2
}
