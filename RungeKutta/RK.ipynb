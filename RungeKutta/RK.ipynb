{
 "cells": [
  {
   "cell_type": "markdown",
   "metadata": {},
   "source": [
    "# Phương pháp Runge Kutta giải phương trình vi phân"
   ]
  },
  {
   "cell_type": "markdown",
   "metadata": {},
   "source": [
    "Bài toán:\n",
    "$$\\begin{cases} y'(x) &=& f(x,y) \\\\ y(x_0) &=& y_0 \\end{cases}$$"
   ]
  },
  {
   "cell_type": "markdown",
   "metadata": {},
   "source": [
    "Xét khai triển Taylor:\n",
    "$$y(x) = y(x_0) + y'(x_0)(x-x_0) + \\frac{y''(x_0)}{2!}(x-x_0)^2 + ... + \\frac{y^{(k)}(x_0)}{k!}(x-x_0)^k + O(x-x_0)^{k+1}$$\n",
    "Ta có thể dựa vào khai triển Taylor trên để tìm được nghiệm của PTVP. Tuy nhiên việc tính đạo hàm khá phức tạp nên Runge và Kutta đã tạo phát triển một phương pháp (RK) để có thể giải quyết vấn đề trên.\n",
    "\n",
    "Ta sẽ chỉ xét RK hiện trong bài này."
   ]
  },
  {
   "cell_type": "markdown",
   "metadata": {},
   "source": [
    "Công thức RK tổng quát:\n",
    "$$\\begin{cases} y_{n+1}&=&y_n+r_1k_1+r_2k_2+...+r_sk_s \\\\ k_i&=&hf(x_n+\\alpha_i h, y(x_n+\\alpha_i h)) \\end{cases}$$\n",
    "\n",
    "Ta đi xác định $y(x_n+\\alpha_i h)$ dựa vào khai triển Taylor và truy hổi trong đó, $0 < \\alpha_i < 1$.\n",
    "\n",
    "Sau cùng ta được công thức RK tổng quát:\n",
    "$$\\begin{cases} y_{n+1}&=&y_n+r_1k_1+r_2k_2+...+r_sk_s \\\\ k_i&=&hf(x_n+\\alpha_i h, y_n+\\beta_{i1}k_1+...+\\beta_{ii-1}k_{i-1})) \\end{cases}$$\n",
    "Với $\\alpha_1 = 0, \\alpha_i \\in (0,1)$"
   ]
  },
  {
   "cell_type": "markdown",
   "metadata": {},
   "source": [
    "## Trường hợp 1 nấc (Euler hiện)"
   ]
  },
  {
   "cell_type": "markdown",
   "metadata": {},
   "source": [
    "Ta sẽ có:\n",
    "$$\\begin{cases} s &=& 1 \\\\ y_{n+1} &=& y_n+r_1k_1 \\\\ k_1&=&hf(x_n,y_n)  \\end{cases}$$\n",
    "\n",
    "Trong đó, $$y(x_{n+1}) = y(x_n)+hy'(x_n)+O(h^2)  $$\n",
    "\n",
    "Vậy công thức RK1 đồng nhất với Euler hiện:\n",
    "$$y(x_{n+1}) = y(x_n)+hf(x_n,y_n)$$"
   ]
  },
  {
   "cell_type": "markdown",
   "metadata": {},
   "source": [
    "## Trường hợp 2 nấc"
   ]
  },
  {
   "cell_type": "markdown",
   "metadata": {},
   "source": [
    "Ta có:\n",
    "$$\\begin{cases} s &=& 2 \\\\ y_{n+1} &=& y_n+r_1k_1+r_2k_2 \\\\ k_1&=&hf(x_n,y_n) \\\\ k_2 &=& hf(x_n+\\alpha_2 h, y_n+\\beta_{21}k_1) \\end{cases}$$\n",
    "\n",
    "Nhận thấy $$\\begin{array}{lcl} k_2 &=& hf(x_n+\\alpha_2 h, y_n+\\beta_{21}k_1) \\\\\n",
    "    &=& h[f_n+f_{x,n}.(\\alpha_2 h)+f_{y,n}.(\\beta_{21}k_1)+O(h^2)]\n",
    "\\end{array}$$\n",
    "\n",
    "Từ đó, ta có:\n",
    "$$\\begin{cases}\n",
    "y_{n+1} &=& y_n+r_1hf_n+r_2h[f_n+f_{x,n}.(\\alpha_2 h)+f_{y,n}.(\\beta_{21}k_1)+O(h^2)]\\\\\n",
    "y(x_{n+1}) &=& y(x_n)+hf_n+\\frac{h^2}{2}[f_{x,n}+f_{y,n}.f_n] + O(h^3)\n",
    "\\end{cases}$$\n",
    "\n",
    "Sử dụng đồng nhất thức, ta có:\n",
    "$$\\begin{cases}\n",
    "r_1+r_2&=&1 \\\\\n",
    "r_2\\alpha_2&=&\\frac{1}{2} \\\\\n",
    "r_2\\beta_{21}&=&\\frac{1}{2}\n",
    "\\end{cases}$$\n",
    "\n",
    "Như vậy với mỗi $\\alpha_2$ ta sẽ có được công thức RK 2 tương ứng"
   ]
  },
  {
   "cell_type": "markdown",
   "metadata": {},
   "source": [
    "#### Xét trường hợp $\\alpha_2 = \\frac{1}{2}:$\n",
    "Ta có công thức RK2:\n",
    "$$\\begin{cases}\n",
    "y_{n+1}&=&y_n+k_2 \\\\\n",
    "k_1&=&hf_n \\\\\n",
    "k_2&=&hf(x_n+\\frac{h}{2},y_n+\\frac{k_1}{2})\n",
    "\\end{cases}$$"
   ]
  },
  {
   "cell_type": "markdown",
   "metadata": {},
   "source": [
    "#### Xét trường hợp $\\alpha_2 = 1$ (Công thức Euler cải tiến):\n",
    "Ta có công thức RK2:\n",
    "$$\\begin{cases}\n",
    "y_{n+1}&=&y_n+\\frac{k_1}{2}k_1+\\frac{k_1}{2}k_2 \\\\\n",
    "k_1&=&hf_n \\\\\n",
    "k_2&=&hf(x_n+h,y_n+k_1)\n",
    "\\end{cases}$$"
   ]
  },
  {
   "cell_type": "markdown",
   "metadata": {},
   "source": [
    "## Trường hợp 3 nấc"
   ]
  },
  {
   "cell_type": "markdown",
   "metadata": {},
   "source": [
    "Ta có:\n",
    "$$\\begin{cases} s &=& 3 \\\\ \n",
    "y_{n+1} &=& y_n+r_1k_1+r_2k_2+r_3k_3 \\\\\n",
    "k_1 &=& hf(x_n,y_n) \\\\\n",
    "k_2 &=& hf(x_n+\\alpha_2 h, y_n+\\beta_{21}k_1) \\\\\n",
    "k_3 &=& hf(x_n+\\alpha_3 h, y_n+\\beta_{31}k_1\\beta_{32}k_2)\n",
    "\\end{cases}$$\n",
    "\n",
    "Nhắc lại khai triển Taylor cho hàm nhiều biến:\n",
    "$$f(x,y) = f_n\n",
    "        +\\begin{pmatrix}f'_x + f'_y\\end{pmatrix}\\begin{pmatrix}\\Delta x \\\\ \\Delta y\\end{pmatrix}\n",
    "        +\\frac{1}{2!}\\begin{pmatrix}\\Delta x \\\\ \\Delta y\\end{pmatrix}\\begin{pmatrix}f''_{xx}&f''_{xy} \\\\ f''_{xy}&f''_{yy} \\end{pmatrix}\\begin{pmatrix}\\Delta x \\\\ \\Delta y\\end{pmatrix}\n",
    "        +...\n",
    "$$\n",
    "\n",
    "Do đó,\n",
    "$$\\begin{array}{lcl}\n",
    "k_1 &=& hf_n \\\\\n",
    "k_2 &=& h\\Big[f_n+\\alpha_2 hf'_{x,n}+\\beta_{21}k_1f'_{y,n}+\\frac{1}{2}(\\alpha_2 h)^2f''_{xx,n}+(\\alpha_2 h)(\\beta_{21}k_1)f''_{xy,n}+\\frac{1}{2}(\\beta_{21}k_1)^2f''_{yy,n}+O(h^3)\\Big] \\\\\n",
    "k_3 &=& h\\Big[f_n+\\alpha_3 hf'_{x,n}+(\\beta_{31}k_1+\\beta_{32}k_2)f'_{y,n}+\\frac{1}{2}(\\alpha_3 h)^2f''_{xx,n}+(\\alpha_3 h)(\\beta_{31}k_1+\\beta_{32}k_2)f''_{xy,n}+\\frac{1}{2}(\\beta_{31}k_1+\\beta_{32}k_2)^2f''_{yy,n}+O(h^3) \\Big]\n",
    "\\end{array}$$\n",
    "\n",
    "Mặt khác theo khai triển Taylor,\n",
    "$$y_{n+1}=y_n+\\frac{1}{2}(f'_{x,n}+f'_{y,n}f_n)h^2+\\frac{1}{3!}(f''_{xx,n}+f''_{xy,n}+(f''_{yx,n}+f''_{yy,n})f_n+f'_{y,n}(f'_{x,n}+f'_{y,n}f_n))h^3 +O(h^4) $$\n",
    "\n",
    "Sử dụng đồng nhất hệ số, ta được hệ phương trình sau:\n",
    "$$\\begin{cases}\n",
    "r_1+r_2+r_3&=&1 \\\\\n",
    "r_2\\alpha_2+r_3\\alpha_3&=&\\frac{1}{2} \\\\\n",
    "r_2\\beta_{21}+r_3(\\beta_{31}+\\beta_{32})&=&\\frac{1}{2} \\\\\n",
    "\\frac{1}{2}r_2\\alpha_2^2+\\frac{1}{2}r_3\\alpha_3^2&=&\\frac{1}{6} \\\\\n",
    "r_2\\alpha_2\\beta_{21}+r_3\\alpha_3(\\beta_{31}+\\beta_{32})&=&\\frac{1}{6} \\\\\n",
    "\\frac{1}{2}r_2\\beta_{21}^2+\\frac{1}{2}r_3(\\beta_{31}^2+\\beta_{32}^2)&=&\\frac{1}{6} \\\\\n",
    "r_3\\beta_{32}\\beta_{21}&=&\\frac{1}{6}\n",
    "\\end{cases}$$"
   ]
  },
  {
   "cell_type": "markdown",
   "metadata": {},
   "source": [
    "#### Một số bộ RK3 thường dùng"
   ]
  },
  {
   "cell_type": "markdown",
   "metadata": {},
   "source": [
    "Bộ thứ nhất: \n",
    "$\\\\ r_1=\\frac{1}{6};r_2=\\frac{2}{3};r_3=\\frac{1}{2};\\alpha_2=\\frac{1}{2};\\alpha_3=1;\\beta_{21}=\\frac{1}{2};\\beta_{31}=-1;\\beta_{32}=2$\n",
    "$$\\begin{cases}\n",
    "y_{n+1}&=&y_n+\\frac{1}{6}(k_1+4k_2+k_3) \\\\\n",
    "k_1 &=& hf_n \\\\\n",
    "k_2 &=& hf(x_n+\\frac{1}{2}h, y_n+\\frac{1}{2}k_1) \\\\\n",
    "k_3 &=& hf(x_n+h, y_n-k_1+2k_2)\n",
    "\\end{cases}$$"
   ]
  },
  {
   "cell_type": "markdown",
   "metadata": {},
   "source": [
    "Bộ thứ hai (Heun):\n",
    "$\\\\ r_1=\\frac{1}{4};r_2=0;r_3=\\frac{3}{4};\\alpha_2=\\frac{1}{3};\\alpha_3=\\frac{2}{3};\\beta_{21}=\\frac{1}{3};\\beta_{31}=0;\\beta_{32}=\\frac{2}{3}$\n",
    "$$\\begin{cases}\n",
    "y_{n+1}&=&y_n+\\frac{1}{4}(k_1+3k_3) \\\\\n",
    "k_1 &=& hf_n \\\\\n",
    "k_2 &=& hf(x_n+\\frac{1}{3}h, y_n+\\frac{1}{3}k_1) \\\\\n",
    "k_3 &=& hf(x_n+\\frac{2}{3}h, y_n+\\frac{2}{3}k_2)\n",
    "\\end{cases}$$"
   ]
  },
  {
   "cell_type": "markdown",
   "metadata": {},
   "source": [
    "## Trường hợp 4 nấc (thường dùng)"
   ]
  },
  {
   "cell_type": "markdown",
   "metadata": {},
   "source": [
    "$$\\begin{cases}\n",
    "y_{n+1}&=&y_n+\\frac{1}{6}(k_1+2k_2+2k_3+k_4) \\\\\n",
    "k_1 &=& hf_n \\\\\n",
    "k_2 &=& hf(x_n+\\frac{1}{2}h, y_n+\\frac{1}{2}k_1) \\\\\n",
    "k_3 &=& hf(x_n+\\frac{1}{2}h, y_n+\\frac{1}{2}k_2) \\\\\n",
    "k_4 &=& hf(x_n+h, y_n+k_3)\n",
    "\\end{cases}$$"
   ]
  }
 ],
 "metadata": {
  "interpreter": {
   "hash": "e9b996d8c33e2f11134b2c9768025a724adbcb676594c0d251737f22579f88ae"
  },
  "kernelspec": {
   "display_name": "Python 3.9.6 64-bit",
   "language": "python",
   "name": "python3"
  },
  "language_info": {
   "name": "python",
   "version": "3.9.6"
  },
  "orig_nbformat": 4
 },
 "nbformat": 4,
 "nbformat_minor": 2
}
