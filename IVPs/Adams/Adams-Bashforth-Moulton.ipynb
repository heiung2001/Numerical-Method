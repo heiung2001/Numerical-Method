{
 "cells": [
  {
   "cell_type": "markdown",
   "metadata": {},
   "source": [
    "# Các phương pháp Adams giải bài toán IVPs"
   ]
  },
  {
   "cell_type": "markdown",
   "metadata": {},
   "source": [
    "### Import packages"
   ]
  },
  {
   "cell_type": "code",
   "execution_count": 26,
   "metadata": {},
   "outputs": [],
   "source": [
    "import numpy as np\n",
    "import matplotlib.pyplot as plt\n",
    "from sympy import *\n",
    "from math import factorial, fabs"
   ]
  },
  {
   "cell_type": "markdown",
   "metadata": {},
   "source": [
    "### Các hàm bổ trợ"
   ]
  },
  {
   "cell_type": "code",
   "execution_count": 27,
   "metadata": {},
   "outputs": [],
   "source": [
    "def integ_arr(s, mode=\"Bashforth\"):\n",
    "    matrix = []\n",
    "    t = Symbol('t')\n",
    "\n",
    "    if mode == \"Bashforth\":\n",
    "        temp = t\n",
    "        for i in range(1, s):\n",
    "            matrix.append(integrate(temp))\n",
    "            matrix[i-1] = float(matrix[i-1].subs(t, 1)) / factorial(i)\n",
    "            temp = temp*(t+i)\n",
    "        matrix.insert(0, 1)\n",
    "    \n",
    "    if mode == \"Moulton\":\n",
    "        temp = t-1\n",
    "        for i in range(1, s):\n",
    "            matrix.append(integrate(temp))\n",
    "            matrix[i-1] = float(matrix[i-1].subs(t, 1)) / factorial(i)\n",
    "            temp = temp*(t+i-1)\n",
    "        matrix.insert(0, 1)\n",
    "    \n",
    "    if mode != \"Bashforth\" and mode != \"Moulton\":\n",
    "        return \"fail\"\n",
    "    else:\n",
    "        return np.array(matrix)"
   ]
  },
  {
   "cell_type": "code",
   "execution_count": 28,
   "metadata": {},
   "outputs": [],
   "source": [
    "def pascal(n):\n",
    "    pas = np.zeros([n, n])\n",
    "    for i in range(n):\n",
    "        pas[i,0] = 1\n",
    "        for j in range(1, i+1):\n",
    "            pas[i,j] = pas[i-1,j-1]*(-1) + pas[i-1,j]\n",
    "    return pas"
   ]
  },
  {
   "cell_type": "markdown",
   "metadata": {},
   "source": [
    "### Input chương trình"
   ]
  },
  {
   "cell_type": "code",
   "execution_count": 29,
   "metadata": {},
   "outputs": [],
   "source": [
    "def func(u, v):\n",
    "    return 3 * (v/u)\n",
    "    # return -3 * v\n",
    "def real_root(u):\n",
    "    return 3*u**3\n",
    "\n",
    "# x0 = 1\n",
    "# y0 = 3\n",
    "# X  = 3\n",
    "# h  = 0.2\n",
    "# S  = 3"
   ]
  },
  {
   "cell_type": "markdown",
   "metadata": {},
   "source": [
    "## 1. Adams - Bashforth (ngoại suy)"
   ]
  },
  {
   "cell_type": "markdown",
   "metadata": {},
   "source": [
    "<b>Ý tưởng</b>:\n",
    "Xấp xỉ $y'(x)$ trên $[x_{n-1}, x_n]$ bằng đa thức nội suy với s điểm nội suy $\\{x_{n-i}, f_{n-i}\\}_{i=\\bar{1,s}}$\n",
    "\n",
    "Sử dụng đa thức nội suy Newton lùi mốc cách đều xuất phát từ $x_{n-1}$:\n",
    "$$P = f_{n-1}+\\nabla f_{n-1}t+\\frac{\\nabla^2f_{n-2}}{2!}t(t+1)+...+\\frac{\\nabla^{s-1}f_{n-1}}{(s-1)!}t(t+1)...(t+s-2)$$\n",
    "\n",
    "Xét phép đổi biến $x=x_{n-1}+th$, ta được:\n",
    "$$\\begin{array}{lcl}\n",
    "y_n&=&y_{n-1}+\\int_{x_{n-1}}^{x_n}f(x,y(x))dx  \\\\\n",
    "&\\approx& y_{n-1} + \\int_0^1(f_{n-1}+\\nabla f_{n-1}t+\\frac{\\nabla^2f_{n-2}}{2!}t(t+1)+...+\\frac{\\nabla^{s-1}f_{n-1}}{(s-1)!}t(t+1)...(t+s-2))dx\n",
    "\\end{array}$$\n",
    "\n",
    "Đặt\n",
    "$$a_i=\\frac{1}{i!}\\int_0^1t(t+1)...(t+i-1)dt$$\n",
    "\n",
    "Áp dụng công thức sai phân:\n",
    "$$\\begin{array}{lcl}\n",
    "\\nabla y'_{i-1}&=&y'_{i-1}-y'_{i-2} \\\\\n",
    "\\nabla^2 y'_{i-1} &=& \\nabla y'_{i-1} - \\nabla y'_{i-2} \\\\\n",
    "........................................................\n",
    "\\end{array}$$\n",
    "\n",
    "Khi đó, ta có:\n",
    "$$y_i = y_{i-1}+h.(b_0*+*y'_{i-1}+b_1*y'_{i-2}+...+b_{s-1}*y'_{i-s}) $$\n",
    "Với\n",
    "$$\\begin{pmatrix}\n",
    "b_0 & b_1 & ... & b_{s-1}\n",
    "\\end{pmatrix}\n",
    "=\n",
    "\\begin{pmatrix}\n",
    "a_0 & a_1 & ... & a_{s-1}\n",
    "\\end{pmatrix}\n",
    "\\begin{pmatrix}\n",
    "1 & 0 & 0 & ... & 0 \\\\\n",
    "1 & -1 & 0 & ... & 0 \\\\\n",
    "1 & -2 & 1 & ... & 0 \\\\\n",
    "... & ... & ... & ... & ...\n",
    "\\end{pmatrix}$$"
   ]
  },
  {
   "cell_type": "code",
   "execution_count": 30,
   "metadata": {},
   "outputs": [],
   "source": [
    "def Bashforth_Coefficient(s):\n",
    "    return integ_arr(s, mode=\"Bashforth\").dot(pascal(s))"
   ]
  },
  {
   "cell_type": "code",
   "execution_count": 31,
   "metadata": {},
   "outputs": [],
   "source": [
    "def Adams_Bashforth(x0=1, xn=3, y0=3, h=0.2, s=4):\n",
    "    n = floor((xn-x0) / h)\n",
    "    X = []\n",
    "    Y = [y0]\n",
    "\n",
    "    for i in range(n+1):\n",
    "        X.append(x0 + i*h)\n",
    "    \n",
    "    # Tính hệ số công thức AB\n",
    "    coeff = Bashforth_Coefficient(s)\n",
    "\n",
    "    # Tính s giá trị khởi đầu dựa theo RK4\n",
    "    for i in range(1, s):\n",
    "        k1 = h * func(X[i-1], Y[i-1])\n",
    "        k2 = h * func(X[i-1] + h/2, Y[i-1] + k1/2)\n",
    "        k3 = h * func(X[i-1] + h/2, Y[i-1] + k2/2)\n",
    "        k4 = h * func(X[i-1] + h, Y[i-1] + k3)\n",
    "        Y.append(Y[i-1] + (k1 + 2*k2 + 2*k3 + k4)/6)\n",
    "    \n",
    "    for i in range(s, n+1):\n",
    "        temp = 0\n",
    "        for j in range(s):\n",
    "            temp = temp + (h * coeff[j] * func(X[i-j-1], Y[i-j-1]))\n",
    "        Y.append(Y[i-1] + temp)\n",
    "    \n",
    "    X = np.array(X)\n",
    "    Y = np.array(Y)\n",
    "    return X, Y"
   ]
  },
  {
   "cell_type": "markdown",
   "metadata": {},
   "source": [
    "## 2. Adams - Moulton (nội suy)"
   ]
  },
  {
   "cell_type": "markdown",
   "metadata": {},
   "source": [
    "<b>Ý tưởng</b>:\n",
    "Xấp xỉ $y'(x)$ trên $[x_{n-1}, x_n]$ bằng đa thức nội suy với s+1 điểm nội suy $\\{x_{n-i}, f_{n-i}\\}_{i=\\bar{0,s}}$\n",
    "\n",
    "Sử dụng đa thức nội suy Newton lùi mốc cách đều xuất phát từ $x_n$:\n",
    "$$\\begin{array}{lcl}\n",
    "y_n&=&y_{n-1}+\\int_{x_{n-1}}^{x_n}f(x,y(x))dx  \\\\\n",
    "&\\approx& y_{n-1} + \\int_{-1}^0(f_{n}+\\nabla f_{n}t+\\frac{\\nabla^2f_{n}}{2!}t(t+1)+...+\\frac{\\nabla^{s-1}f_{n}}{(s-1)!}t(t+1)...(t+s-2))dx\n",
    "\\end{array}$$\n",
    "\n",
    "// Cần bổ sung thêm"
   ]
  },
  {
   "cell_type": "code",
   "execution_count": 32,
   "metadata": {},
   "outputs": [],
   "source": [
    "def Moulton_Coefficient(s):\n",
    "    return integ_arr(s, mode=\"Moulton\").dot(pascal(s))"
   ]
  },
  {
   "cell_type": "code",
   "execution_count": 33,
   "metadata": {},
   "outputs": [],
   "source": [
    "def Adams_Moulton(x0=1, xn=3, y0=3, h=0.2, s=4, eps=10**-5):\n",
    "    n = floor((xn-x0) / h)\n",
    "    X = []\n",
    "    Y = [y0]\n",
    "    \n",
    "    for i in range(n+1):\n",
    "        X.append(x0 + i*h)\n",
    "    \n",
    "    # Tính hệ số công thức AM\n",
    "    coeff = Moulton_Coefficient(s)\n",
    "\n",
    "    # Tính s giá trị khởi đầu dựa theo RK4\n",
    "    for i in range(1, s):\n",
    "        k1 = h * func(X[i-1], Y[i-1])\n",
    "        k2 = h * func(X[i-1] + h/2, Y[i-1] + k1/2)\n",
    "        k3 = h * func(X[i-1] + h/2, Y[i-1] + k2/2)\n",
    "        k4 = h * func(X[i-1] + h, Y[i-1] + k3)\n",
    "        Y.append(Y[i-1] + (k1 + 2*k2 + 2*k3 + k4)/6)\n",
    "    \n",
    "    for i in range(s, n+1):\n",
    "        delta = 0\n",
    "        for j in range(1, s):\n",
    "            delta += h * coeff[j] * func(X[i-j], Y[i-j])\n",
    "        Y.append(Y[i-1] + h * coeff[0] * func(X[i], Y[i-1]) + delta)\n",
    "        y_pre = Y[i-1] + h * coeff[0] * func(X[i], Y[i]) + delta\n",
    "\n",
    "        while (fabs(y_pre - Y[i]) >= eps):\n",
    "            Y[i] = y_pre\n",
    "            y_pre = Y[i-1] + h * coeff[0] * func(X[i], Y[i]) + delta\n",
    "        Y[i] = y_pre\n",
    "    \n",
    "    X = np.array(X)\n",
    "    Y = np.array(Y)\n",
    "    return X, Y"
   ]
  },
  {
   "cell_type": "markdown",
   "metadata": {},
   "source": [
    "## 3. Phương pháp dự báo hiệu chỉnh (AB - AM)"
   ]
  },
  {
   "cell_type": "markdown",
   "metadata": {},
   "source": [
    "<ul>\n",
    "    <li>AB dự báo giá trị</li>\n",
    "    <li>AM hiệu chỉnh bằng công thức lặp sinh ra từ phương trình lặp AM</li>\n",
    "</ul>\n",
    "\n",
    "Phương pháp này được sử dụng để đạt hiệu quả tương tự như AM nhưng với số lần lặp ít hơn nhiều."
   ]
  },
  {
   "cell_type": "code",
   "execution_count": 34,
   "metadata": {},
   "outputs": [],
   "source": [
    "def Adams_Bashforth_Moulton(x0=1, xn=3, y0=3, h=0.2, s=4, eps=10**-5):\n",
    "    n = floor((xn-x0) / h)\n",
    "    X = []\n",
    "    Y = [y0]\n",
    "    \n",
    "    for i in range(n+1):\n",
    "        X.append(x0 + i*h)\n",
    "    \n",
    "    # Tính s giá trị khởi đầu dựa theo RK4\n",
    "    for i in range(1, s):\n",
    "        k1 = h * func(X[i-1], Y[i-1])\n",
    "        k2 = h * func(X[i-1] + h/2, Y[i-1] + k1/2)\n",
    "        k3 = h * func(X[i-1] + h/2, Y[i-1] + k2/2)\n",
    "        k4 = h * func(X[i-1] + h, Y[i-1] + k3)\n",
    "        Y.append(Y[i-1] + (k1 + 2*k2 + 2*k3 + k4)/6)\n",
    "    \n",
    "    # Tính hệ số công thức AB-AM    \n",
    "    bash_coeff = Bashforth_Coefficient(s)\n",
    "    moul_coeff = Moulton_Coefficient(s)\n",
    "    \n",
    "    for i in range(s, n+1):\n",
    "        # Dùng AB để dự đoán\n",
    "        estimate = Y[i-1]\n",
    "        for j in range(s):\n",
    "            estimate += h * bash_coeff[j] * func(X[i-j-1], Y[i-j-1])\n",
    "        \n",
    "        # Dùng AM để hiệu chỉnh\n",
    "        delta = 0\n",
    "        for k in range(1, s):\n",
    "            delta += h * moul_coeff[k] * func(X[i-k], Y[i-k])\n",
    "        Y.append(Y[i-1] + h * moul_coeff[0] * func(X[i],estimate) + delta)\n",
    "        ym = Y[i-1] + h * moul_coeff[0] * func(X[i],Y[i]) + delta\n",
    "        \n",
    "        while fabs(ym - Y[i]) >= eps:\n",
    "            Y[i] = ym\n",
    "            ym   = Y[i-1] + h * moul_coeff[0] * func(X[i], Y[i]) + delta\n",
    "        Y[i] = ym\n",
    "    \n",
    "    X = np.array(X)\n",
    "    Y = np.array(Y)\n",
    "    return X, Y"
   ]
  },
  {
   "cell_type": "markdown",
   "metadata": {},
   "source": [
    "## 4. Kết quả chạy chương trình\n",
    "\n",
    "<b>Lưu ý:</b>\n",
    "<ol>\n",
    "    <li>Đối với AM và AB-AM, có thể thêm biến đếm trong vòng lặp để so sánh số lượng vòng lặp của 2 phương pháp</li>\n",
    "    <li>Với AB-AM, có thể chỉ cần lặp một lần để ra kết quả</li>\n",
    "</ol>"
   ]
  },
  {
   "cell_type": "markdown",
   "metadata": {},
   "source": [
    "### 4.1 AB"
   ]
  },
  {
   "cell_type": "code",
   "execution_count": 35,
   "metadata": {},
   "outputs": [],
   "source": [
    "x0 = 1\n",
    "xn = 3\n",
    "y0 = 3\n",
    "h = 0.5\n",
    "n = floor((xn-x0) / h)\n",
    "\n",
    "X_real = []\n",
    "Y_real = []\n",
    "\n",
    "for i in range(n+1):\n",
    "    X_real.append(x0 + i*h)\n",
    "    Y_real.append(real_root(X_real[i]))\n",
    "\n",
    "X_real = np.array(X_real)\n",
    "Y_real = np.array(Y_real)"
   ]
  },
  {
   "cell_type": "code",
   "execution_count": 36,
   "metadata": {},
   "outputs": [
    {
     "name": "stdout",
     "output_type": "stream",
     "text": [
      "[ 3.          5.18264463  8.2288539  12.28254407 17.48812525 23.98931497\n",
      " 31.92977333 41.45348238 52.70445417 65.82660307 80.96384281]\n",
      "[ 3.    10.125 24.    46.875 81.   ]\n"
     ]
    },
    {
     "data": {
      "image/png": "[encoded data removed]",
      "text/plain": [
       "<Figure size 432x288 with 1 Axes>"
      ]
     },
     "metadata": {
      "needs_background": "light"
     },
     "output_type": "display_data"
    }
   ],
   "source": [
    "x_found, y_found = Adams_Bashforth()\n",
    "\n",
    "# c = 100000000\n",
    "# y_found *= c\n",
    "# Y_real *= c\n",
    "print(y_found, Y_real, sep='\\n')\n",
    "\n",
    "\n",
    "plt.grid()\n",
    "plt.plot(x_found, y_found, 'red')\n",
    "plt.plot(X_real, Y_real, 'black')\n",
    "plt.show()"
   ]
  },
  {
   "cell_type": "markdown",
   "metadata": {},
   "source": [
    "### 4.2 AM"
   ]
  },
  {
   "cell_type": "code",
   "execution_count": 37,
   "metadata": {},
   "outputs": [
    {
     "name": "stdout",
     "output_type": "stream",
     "text": [
      "[ 3.          5.18264463  8.2288539  12.28254407 17.48820198 23.98931164\n",
      " 31.92977363 41.4535296  52.70451607 65.82666885 80.96392376]\n",
      "[ 3.    10.125 24.    46.875 81.   ]\n"
     ]
    },
    {
     "data": {
      "image/png": "[encoded data removed]",
      "text/plain": [
       "<Figure size 432x288 with 1 Axes>"
      ]
     },
     "metadata": {
      "needs_background": "light"
     },
     "output_type": "display_data"
    }
   ],
   "source": [
    "x_found, y_found = Adams_Moulton()\n",
    "\n",
    "# c = 100000000\n",
    "# y_found *= c\n",
    "# Y_real *= c\n",
    "print(y_found, Y_real, sep='\\n')\n",
    "\n",
    "\n",
    "plt.grid()\n",
    "plt.plot(x_found, y_found, 'red')\n",
    "plt.plot(X_real, Y_real, 'black')\n",
    "plt.show()"
   ]
  },
  {
   "cell_type": "markdown",
   "metadata": {},
   "source": [
    "### 4.3 AB - AM"
   ]
  },
  {
   "cell_type": "code",
   "execution_count": 38,
   "metadata": {},
   "outputs": [
    {
     "name": "stdout",
     "output_type": "stream",
     "text": [
      "[ 3.          5.18264463  8.2288539  12.28254407 17.48820108 23.98931073\n",
      " 31.92977265 41.45352889 52.70451561 65.82666856 80.96392361]\n",
      "[ 3.    10.125 24.    46.875 81.   ]\n"
     ]
    },
    {
     "data": {
      "image/png": "[encoded data removed]",
      "text/plain": [
       "<Figure size 432x288 with 1 Axes>"
      ]
     },
     "metadata": {
      "needs_background": "light"
     },
     "output_type": "display_data"
    }
   ],
   "source": [
    "x_found, y_found = Adams_Bashforth_Moulton()\n",
    "\n",
    "# c = 100000000\n",
    "# y_found *= c\n",
    "# Y_real *= c\n",
    "print(y_found, Y_real, sep='\\n')\n",
    "\n",
    "\n",
    "plt.grid()\n",
    "plt.plot(x_found, y_found, 'red')\n",
    "plt.plot(X_real, Y_real, 'black')\n",
    "plt.show()"
   ]
  }
 ],
 "metadata": {
  "interpreter": {
   "hash": "e9b996d8c33e2f11134b2c9768025a724adbcb676594c0d251737f22579f88ae"
  },
  "kernelspec": {
   "display_name": "Python 3.9.6 64-bit",
   "language": "python",
   "name": "python3"
  },
  "language_info": {
   "codemirror_mode": {
    "name": "ipython",
    "version": 3
   },
   "file_extension": ".py",
   "mimetype": "text/x-python",
   "name": "python",
   "nbconvert_exporter": "python",
   "pygments_lexer": "ipython3",
   "version": "3.9.6"
  },
  "orig_nbformat": 4
 },
 "nbformat": 4,
 "nbformat_minor": 2
}
