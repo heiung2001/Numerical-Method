{
 "cells": [
  {
   "cell_type": "markdown",
   "metadata": {},
   "source": [
    "# Phương pháp Euler"
   ]
  },
  {
   "cell_type": "code",
   "execution_count": null,
   "metadata": {},
   "outputs": [],
   "source": [
    "import numpy as np\n",
    "import matplotlib.pyplot as plt\n",
    "from sympy import *\n",
    "from math import exp"
   ]
  },
  {
   "cell_type": "markdown",
   "metadata": {},
   "source": [
    "### Input chương trình"
   ]
  },
  {
   "cell_type": "code",
   "execution_count": null,
   "metadata": {},
   "outputs": [],
   "source": [
    "def func(x, y):\n",
    "    return x*y/2\n",
    "def real_root(x):\n",
    "    return exp(x**2/2)\n",
    "x0 = 0\n",
    "y0 = 1\n",
    "xn = 1\n",
    "h = 0.1"
   ]
  },
  {
   "cell_type": "markdown",
   "metadata": {},
   "source": [
    "## Euler hiện"
   ]
  },
  {
   "cell_type": "markdown",
   "metadata": {},
   "source": [
    "$$y(x_{n+1})=y(x_n)+h.f(x_n, y_n)+O(h^2)$$"
   ]
  },
  {
   "cell_type": "code",
   "execution_count": null,
   "metadata": {},
   "outputs": [],
   "source": [
    "def forward_Euler(x0, y0, xn, h):\n",
    "    n = floor((xn-x0)/h)\n",
    "    x = []\n",
    "    y = [y0]\n",
    "\n",
    "    for i in range(n+1):\n",
    "        x.append(x0 + i*h)\n",
    "    for i in range(1, n+1):\n",
    "        y.append(y[-1] + h*func(x[i-1], y[-1]))\n",
    "    \n",
    "    return x, y"
   ]
  },
  {
   "cell_type": "markdown",
   "metadata": {},
   "source": [
    "## Euler ẩn"
   ]
  },
  {
   "cell_type": "markdown",
   "metadata": {},
   "source": [
    "$$y(x_{n+1})=y(x_n)+h.f(x_{n+1}, y_{n+1})+O(h^2) $$"
   ]
  },
  {
   "cell_type": "code",
   "execution_count": null,
   "metadata": {},
   "outputs": [],
   "source": [
    "def backward_Euler(x0, y0, xn, h):\n",
    "    n = floor((xn-x0)/h)\n",
    "    x = []\n",
    "    y = [y0]\n",
    "\n",
    "    for i in range(n+1):\n",
    "        x.append(x0 + i*h)\n",
    "    for i in range(1, n+1):\n",
    "        delta = h * func(x[i], y[-1] + h*func(x[i-1], y[-1]))\n",
    "        y.append(y[-1] + delta)\n",
    "    \n",
    "    return x, y"
   ]
  },
  {
   "cell_type": "markdown",
   "metadata": {},
   "source": [
    "## Hình thang"
   ]
  },
  {
   "cell_type": "markdown",
   "metadata": {},
   "source": [
    "$$y(x_{n+1})=y(x_n)+\\frac{h}{2}.(f(x_n, y_n)+f(x_{n+1}, y_{n+1}))+O(h^2) $$"
   ]
  },
  {
   "cell_type": "code",
   "execution_count": 9,
   "metadata": {},
   "outputs": [
    {
     "name": "stdout",
     "output_type": "stream",
     "text": [
      "[0.0, 0.1, 0.2, 0.30000000000000004, 0.4, 0.5, 0.6000000000000001, 0.7000000000000001, 0.8, 0.9, 1.0]\n",
      "[1, 1.0025, 1.0100438125, 1.0227451134421874, 1.0407965646944422, 1.0644746865412407, 1.0941469184285777, 1.1302811204096814, 1.1734578592093312, 1.224385930299016, 1.2839216961598057]\n"
     ]
    }
   ],
   "source": [
    "def trapezoid(x0, y0, xn, h):\n",
    "    n = floor((xn-x0)/h)\n",
    "    x = []\n",
    "    y = [y0]\n",
    "\n",
    "    for i in range(n+1):\n",
    "        x.append(x0 + i*h)\n",
    "    for i in range(1, n+1):\n",
    "        delta = (h/2) * (func(x[i-1], y[-1]) + func(x[i], y[-1] + h*func(x[i-1], y[-1])))\n",
    "        y.append(y[-1] + delta)\n",
    "    \n",
    "    return x, y\n",
    "\n",
    "a,b = trapezoid(x0, y0, xn, h)\n",
    "print(a, b, sep='\\n')"
   ]
  }
 ],
 "metadata": {
  "interpreter": {
   "hash": "e9b996d8c33e2f11134b2c9768025a724adbcb676594c0d251737f22579f88ae"
  },
  "kernelspec": {
   "display_name": "Python 3.9.6 64-bit",
   "language": "python",
   "name": "python3"
  },
  "language_info": {
   "codemirror_mode": {
    "name": "ipython",
    "version": 3
   },
   "file_extension": ".py",
   "mimetype": "text/x-python",
   "name": "python",
   "nbconvert_exporter": "python",
   "pygments_lexer": "ipython3",
   "version": "3.9.6"
  },
  "orig_nbformat": 4
 },
 "nbformat": 4,
 "nbformat_minor": 2
}
