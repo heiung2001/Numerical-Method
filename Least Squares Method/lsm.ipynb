{
 "cells": [
  {
   "cell_type": "markdown",
   "metadata": {},
   "source": [
    "# Least Squares Method"
   ]
  },
  {
   "cell_type": "markdown",
   "metadata": {},
   "source": [
    "## Bài toán\n",
    "* Cho $S=\\{(x_i, y_i)|i=1,n\\} \\subset [a,b]$, $y$ phụ thuộc vào $x$ theo một quy luật $f$\n",
    "* Cho $V = span\\{\\varphi_j | j = 1, m\\} \\subset C[a,b]$ và $\\{\\varphi_j\\}$ là độc lập tuyến tính\n",
    "\n",
    "Ta cần tìm hàm $g \\in V$ sao cho $\\|f-g\\|_S$ nhỏ nhất.\n",
    "\n",
    "Điều này sẽ tương đương với tìm hàm $g$ sao cho $\\sqrt{\\sum_{i=1}^n(y_i-g(x_i))^2}$ là nhỏ nhất"
   ]
  },
  {
   "cell_type": "markdown",
   "metadata": {},
   "source": [
    "## Hai cách tiếp cận\n",
    "+ Dùng thuật toán tìm cực trị trong giải tích điểm ${\\bf \\underset{a_1,...,a_n}{\\operatorname{\\argmin}} \\sum_{i=1}^n (y_i-a_1\\varphi_1(x_i)-...-a_m\\varphi_m(x_i))^2}$\n",
    "    - Giải hệ đại số tuyến tính $\\frac{\\partial S}{\\partial a_i}=0$ (m phương trình m ẩn).\n",
    "    - Dùng gradient descent và các biến thể.\n",
    "\n",
    "+ Dùng các thuật toán hinh chiếu $\\|f-g\\|_S min \\iff g = pr_{V_S}f$\n",
    "    - Giải hệ đstt \n",
    "        $\\\\(f-g)\\perp V_S \\iff (f-g)\\perp\\varphi_j \\\\\n",
    "        \\iff \\langle f-a_1\\varphi_1-...-a_m\\varphi_m, \\varphi_j \\rangle = 0 \\\\\n",
    "        \\iff a_1\\langle\\varphi_1,\\varphi_j\\rangle+...+a_m\\langle\\varphi_m,\\varphi_j\\rangle=\\langle f, \\varphi_j \\rangle\n",
    "        $\n",
    "    - Trực giao hóa Gram-schmidt hệ $\\{\\varphi_j\\}$ sinh ra hệ cơ sở trực chuẩn $\\{\\psi_j\\}$ của $V_S$"
   ]
  },
  {
   "cell_type": "markdown",
   "metadata": {},
   "source": [
    "### Để đơn giản, trong bài này sẽ lựa chọn cách hình chiếu để giải hệ đại số tuyến tính\n",
    "\n",
    "Đặt\n",
    "+ $\\varphi_i = (\\begin{matrix} \\varphi_i(x_1) & \\varphi_i(x_2) & ... & \\varphi_i(x_n)\\end{matrix})^t \\hspace{5px}, i \\in [1,m]$\n",
    "+ $\\Phi = [\\begin{matrix} \\varphi_1 & \\varphi_2 & ... & \\varphi_m \\end{matrix}]_{n \\times m}  $\n",
    "+ $M = \\Phi^t\\Phi = [\\langle \\varphi_i, \\varphi_j \\rangle]$\n",
    "\n",
    "Khi đó,\n",
    "$$\n",
    "\\begin{array}{cc}\n",
    "& a_1\\langle\\varphi_1,\\varphi_j\\rangle+...+a_m\\langle\\varphi_m,\\varphi_j\\rangle=\\langle f, \\varphi_j \\rangle \\\\\n",
    "\\iff & \\Phi^t\\Phi a = \\Phi f \\\\\n",
    "\\iff & a = (\\Phi^t\\Phi)^{-1}(\\Phi f)\n",
    "\\end{array}\n",
    "$$"
   ]
  },
  {
   "cell_type": "markdown",
   "metadata": {},
   "source": [
    "## Import packages"
   ]
  },
  {
   "cell_type": "code",
   "execution_count": 1,
   "metadata": {},
   "outputs": [],
   "source": [
    "import numpy as np\n",
    "import matplotlib.pyplot as plt\n",
    "from sympy import Symbol, sin, cos, exp, log\n",
    "from IPython.display import display"
   ]
  },
  {
   "cell_type": "markdown",
   "metadata": {},
   "source": [
    "## Some utilized functions"
   ]
  },
  {
   "cell_type": "code",
   "execution_count": 2,
   "metadata": {},
   "outputs": [],
   "source": [
    "def make_symbol(a, deg, model):\n",
    "    t = Symbol('t')\n",
    "    expr = 0\n",
    "\n",
    "    if model == \"polynomial\":\n",
    "        for i in range(len(deg)):\n",
    "            expr += a[i] * t**deg[i]\n",
    "        \n",
    "    elif model == \"trigonometry\":\n",
    "        for i in range(len(deg)):\n",
    "            if deg[i] % 2 == 1:\n",
    "                expr += a[i] * sin((int(deg[i]/2)+1) * t)\n",
    "            else:\n",
    "                expr += a[i] * cos((deg[i]/2) * t)\n",
    "\n",
    "    elif model == \"exponential\":\n",
    "        if deg[0] == 0:\n",
    "            expr += np.log(a[0])\n",
    "        \n",
    "        for i in range(1, len(deg)):\n",
    "            expr += a[i] * t**deg[i]\n",
    "        \n",
    "        expr = exp(expr)\n",
    "\n",
    "    elif model == \"logarithm\":\n",
    "        for i in range(len(deg)):\n",
    "            expr += a[i] * t**deg[i]\n",
    "\n",
    "        expr = log(expr)\n",
    "\n",
    "    return expr"
   ]
  },
  {
   "cell_type": "code",
   "execution_count": 3,
   "metadata": {},
   "outputs": [],
   "source": [
    "def eval_model(x0, a, deg, model):\n",
    "    res = 0\n",
    "\n",
    "    if model == \"polynomial\":\n",
    "        for i in range(len(deg)):\n",
    "            res += a[i] * pow(x0, deg[i])\n",
    "\n",
    "    elif model == \"trigonometry\":\n",
    "        for i in range(len(deg)):\n",
    "            if deg[i] % 2 == 1:\n",
    "                res += a[i] * np.sin((int(deg[i]/2)+1) * x0)\n",
    "            else:\n",
    "                res += a[i] * np.cos((deg[i]/2) * x0)\n",
    "    \n",
    "    elif model == \"exponential\":\n",
    "        if deg[0] == 0:\n",
    "            res += np.log(a[0])\n",
    "        \n",
    "        for i in range(1, len(deg)):\n",
    "            res += a[i] * pow(x0, deg[i])\n",
    "        \n",
    "        res = np.exp(res)\n",
    "\n",
    "    elif model == \"logarithm\":\n",
    "        for i in range(len(deg)):\n",
    "            res += a[i] * pow(x0, deg[i])\n",
    "\n",
    "        res = np.log(res)\n",
    "\n",
    "    return res"
   ]
  },
  {
   "cell_type": "code",
   "execution_count": 4,
   "metadata": {},
   "outputs": [],
   "source": [
    "def plot_graph(x, y, a, model):\n",
    "    xx = np.linspace(min(x), max(x), 1000)\n",
    "    yy = []\n",
    "\n",
    "    for elm in xx:\n",
    "        yy.append(eval_model(elm, a, deg, model))\n",
    "    \n",
    "    plt.scatter(x, y)\n",
    "    plt.plot(xx, yy, 'r')\n",
    "    plt.show()"
   ]
  },
  {
   "cell_type": "markdown",
   "metadata": {},
   "source": [
    "## Đánh giá sai số"
   ]
  },
  {
   "cell_type": "code",
   "execution_count": 24,
   "metadata": {},
   "outputs": [],
   "source": [
    "def mean_square_error(x, y, a, deg, model):\n",
    "    sigma = 0\n",
    "    \n",
    "    for i in range(len(x)):\n",
    "        sigma += (y[i] - eval_model(x[i], a, deg, model)) ** 2\n",
    "\n",
    "    sigma = np.sqrt((1/len(x)) * sigma)\n",
    "    return sigma        "
   ]
  },
  {
   "cell_type": "markdown",
   "metadata": {},
   "source": [
    "## Input data"
   ]
  },
  {
   "cell_type": "code",
   "execution_count": 32,
   "metadata": {},
   "outputs": [
    {
     "data": {
      "image/png": "[encoded data removed]",
      "text/plain": [
       "<Figure size 432x288 with 1 Axes>"
      ]
     },
     "metadata": {
      "needs_background": "light"
     },
     "output_type": "display_data"
    }
   ],
   "source": [
    "DATA_PATH = \"data4.txt\"\n",
    "\n",
    "def input_data(file):\n",
    "    x_lst = []\n",
    "    y_lst = []\n",
    "\n",
    "    with open(file, 'r+') as f:\n",
    "        for line in f.readlines():\n",
    "            x0 = float(line.split('\\t')[0])\n",
    "            y0 = float(line.split('\\t')[1])\n",
    "\n",
    "            if x0 in x_lst:\n",
    "                continue\n",
    "\n",
    "            x_lst.append(x0)\n",
    "            y_lst.append(y0)\n",
    "    \n",
    "    x_arr = np.array(x_lst)\n",
    "    y_arr = np.array(y_lst)\n",
    "\n",
    "    return [x_arr, y_arr]\n",
    "\n",
    "x, y = input_data(DATA_PATH)\n",
    "plt.scatter(x, y)\n",
    "plt.show()"
   ]
  },
  {
   "cell_type": "code",
   "execution_count": 30,
   "metadata": {},
   "outputs": [
    {
     "name": "stdout",
     "output_type": "stream",
     "text": [
      "[0, 2, 3, 5]\n"
     ]
    }
   ],
   "source": [
    "DEGREE_PATH = \"degree.txt\"\n",
    "\n",
    "def input_degree(file):\n",
    "    deg = []\n",
    "\n",
    "    with open(file, 'r+') as f:\n",
    "        for line in f.readlines():\n",
    "            d = int(line[0])\n",
    "            \n",
    "            if d >= 0:\n",
    "                deg.append(d)\n",
    "    \n",
    "    return sorted(deg)\n",
    "\n",
    "deg = input_degree(DEGREE_PATH)\n",
    "print(deg)"
   ]
  },
  {
   "cell_type": "markdown",
   "metadata": {},
   "source": [
    "## Một số mô hình ước lượng"
   ]
  },
  {
   "cell_type": "markdown",
   "metadata": {},
   "source": [
    "#### Mô hình đa thức\n",
    "$$\n",
    "f(x) = a_0+a_1x+a_2x^2+...+a_nx^n\n",
    "$$\n",
    "\n",
    "Chú ý khi nhập file degree.txt: Mỗi dòng là bậc của đa thức, không cần theo đúng thứ tự.\n",
    "\n",
    "Ví dụ đa thức cần ước lượng là $f(x)=a_0+a_3x^3+a_7x^7$, thì file degree.txt sẽ như sau:\n",
    "```\n",
    "    0\n",
    "    3\n",
    "    7\n",
    "```"
   ]
  },
  {
   "cell_type": "code",
   "execution_count": 7,
   "metadata": {},
   "outputs": [],
   "source": [
    "def polynomial(x, y, deg):\n",
    "    phi = np.zeros(shape=(len(deg), len(x)))\n",
    "\n",
    "    for i in range(len(deg)):\n",
    "        for j in range(len(x)):\n",
    "            phi[i, j] = x[j] ** deg[i]\n",
    "    \n",
    "    lhs = phi.dot(np.transpose(phi))\n",
    "    rhs = phi.dot(np.transpose(y))\n",
    "\n",
    "    a = np.linalg.inv(lhs).dot(rhs)\n",
    "\n",
    "    return np.transpose(a)"
   ]
  },
  {
   "cell_type": "code",
   "execution_count": 26,
   "metadata": {},
   "outputs": [
    {
     "data": {
      "text/latex": [
       "$\\displaystyle 2.08336636604607 t^{3} - 6.18214365452227 t + 10.5562465052097$"
      ],
      "text/plain": [
       "2.08336636604607*t**3 - 6.18214365452227*t + 10.5562465052097"
      ]
     },
     "metadata": {},
     "output_type": "display_data"
    },
    {
     "name": "stdout",
     "output_type": "stream",
     "text": [
      "Sai số đạt được: 0.26476137943431516\n"
     ]
    },
    {
     "data": {
      "image/png": "[encoded data removed]",
      "text/plain": [
       "<Figure size 432x288 with 1 Axes>"
      ]
     },
     "metadata": {
      "needs_background": "light"
     },
     "output_type": "display_data"
    }
   ],
   "source": [
    "model_params = polynomial(x, y, deg)\n",
    "\n",
    "expr = make_symbol(model_params, deg, model=\"polynomial\")\n",
    "display(expr)\n",
    "\n",
    "err = mean_square_error(x, y, model_params, deg, model=\"polynomial\")\n",
    "print(f\"Sai số đạt được: {err}\")\n",
    "\n",
    "plot_graph(x, y, model_params, model=\"polynomial\")"
   ]
  },
  {
   "cell_type": "markdown",
   "metadata": {},
   "source": [
    "#### Mô hình lượng giác\n",
    "$$\n",
    "f(x) = a_0+a_1\\cos(x)+b_1\\sin(x)+a_2\\cos(2x)+b_2\\sin(2x)+...+a_n\\cos(nx)+b_n\\sin(nx)\n",
    "$$\n",
    "\n",
    "Chú ý khi nhập file degree.txt ở dạng hàm này cần nhập theo đúng định dạng sau:\n",
    "+ Với $\\sin(kx)$ thì nhập $2k-1$\n",
    "+ Với $\\cos(kx)$ thì nhập $2k$\n",
    "+ Nếu có hệ số tự do $a_0$ thì cần nhập 0\n",
    "+ Thứ tự là không quan trọng\n",
    "\n",
    "Ví dụ hàm cần ước lượng là $f(x) = a_0 + a_1\\cos(x)+b_3\\sin(3x)$ thì file degree.txt sẽ có dạng:\n",
    "```\n",
    "    0\n",
    "    2\n",
    "    5\n",
    "```"
   ]
  },
  {
   "cell_type": "code",
   "execution_count": 8,
   "metadata": {},
   "outputs": [],
   "source": [
    "def trigonometry(x, y, deg):\n",
    "    phi = np.zeros(shape=(len(deg), len(x)))\n",
    "\n",
    "    if deg[0] == 0:\n",
    "        phi[0, :] = 1\n",
    "    \n",
    "    for i in range(1, len(deg)):\n",
    "        if deg[i] % 2 == 1:\n",
    "            real_deg = int(deg[i]/2) + 1\n",
    "            for j in range(len(x)):\n",
    "                phi[i, j] = np.sin(real_deg * x[j])\n",
    "        else:\n",
    "            real_deg = deg[i]/2\n",
    "            for j in range(len(x)):\n",
    "                phi[i, j] = np.cos(real_deg * x[j])\n",
    "    \n",
    "    lhs = phi.dot(np.transpose(phi))\n",
    "    rhs = phi.dot(np.transpose(y))\n",
    "\n",
    "    a = np.linalg.inv(lhs).dot(rhs)\n",
    "\n",
    "    return np.transpose(a)"
   ]
  },
  {
   "cell_type": "code",
   "execution_count": 28,
   "metadata": {},
   "outputs": [
    {
     "data": {
      "text/latex": [
       "$\\displaystyle 4.64692598419906 \\sin{\\left(t \\right)} - 11.1528222629066 \\sin{\\left(2 t \\right)} + 11.0773001349924$"
      ],
      "text/plain": [
       "4.64692598419906*sin(t) - 11.1528222629066*sin(2*t) + 11.0773001349924"
      ]
     },
     "metadata": {},
     "output_type": "display_data"
    },
    {
     "name": "stdout",
     "output_type": "stream",
     "text": [
      "Sai số đạt được: 0.2322842864412044\n"
     ]
    },
    {
     "data": {
      "image/png": "[encoded data removed]",
      "text/plain": [
       "<Figure size 432x288 with 1 Axes>"
      ]
     },
     "metadata": {
      "needs_background": "light"
     },
     "output_type": "display_data"
    }
   ],
   "source": [
    "model_params = trigonometry(x, y, deg)\n",
    "\n",
    "expr = make_symbol(model_params, deg, model=\"trigonometry\")\n",
    "display(expr)\n",
    "\n",
    "err = mean_square_error(x, y, model_params, deg, model=\"trigonometry\")\n",
    "print(f\"Sai số đạt được: {err}\")\n",
    "\n",
    "plot_graph(x, y, model_params, model=\"trigonometry\")"
   ]
  },
  {
   "cell_type": "markdown",
   "metadata": {},
   "source": [
    "#### Mô hình hàm mũ\n",
    "$$\n",
    "f(x) = a\\times e^{P(x)} \\\\\n",
    "\\text{trong đó } P(x) = a_1x+a_2x^2+...a_nx^n\n",
    "$$\n",
    "\n",
    "Ở mô hình dạng này, ta nhận thấy giá trị của $y$ sẽ chỉ có thể nhận hoặc dương hoặc âm. Vì vậy trong bộ dữ liệu đầu vào nếu số lượng âm dương bị lệch hẳn về một bên thì có thể loại bỏ những giá trị nhiễu và đánh giá với các giá trị còn lại.\n",
    "\n",
    "Bằng phép logarith tự nhiên 2 vế, ta có:\n",
    "$$\n",
    "\\ln(y) = \\ln(a_0) + a_1x+a_2x^2+...+a_nx^n\n",
    "$$\n",
    "\n",
    "Đặt $Y = \\ln(y),\\hspace{5px} A_0=\\ln(a_0),\\hspace{5px} A_i = a_i \\forall i=1,n$ \n",
    "\n",
    "Ta quay trở về dạng đa thức:\n",
    "$$\n",
    "Y=A_0+A_1x+A_2x^2+...+A_nx^n\n",
    "$$"
   ]
  },
  {
   "cell_type": "code",
   "execution_count": 9,
   "metadata": {},
   "outputs": [],
   "source": [
    "def exponential(x, y, deg):\n",
    "    sign = np.sign(np.mean(np.sign(y)))\n",
    "    \n",
    "    x_lst = []\n",
    "    y_lst = []\n",
    "\n",
    "    for i in range(len(x)):\n",
    "        if np.sign(y[i]) == sign:\n",
    "            x_lst.append(x[i])\n",
    "            y_lst.append(y[i])\n",
    "        else:\n",
    "            print(f\"Removed (x[{i}], y[{i}]) = ({x[i]}, {y[i]}) out of the dataset!\")\n",
    "    \n",
    "    for i in range(len(x)):\n",
    "        y_lst[i] = np.log(sign * y_lst[i])\n",
    "    \n",
    "    x_arr = np.array(x_lst)\n",
    "    y_arr = np.array(y_lst)\n",
    "\n",
    "    a = polynomial(x_arr, y_arr, deg)\n",
    "    a[0] = np.exp(a[0])\n",
    "    \n",
    "    return a"
   ]
  },
  {
   "cell_type": "code",
   "execution_count": 31,
   "metadata": {},
   "outputs": [
    {
     "data": {
      "text/latex": [
       "$\\displaystyle 8.03315648847416 e^{0.0837637881268023 t^{5} - 0.158460911354894 t^{3} - 0.543427638118658 t^{2}}$"
      ],
      "text/plain": [
       "8.03315648847416*exp(0.0837637881268023*t**5 - 0.158460911354894*t**3 - 0.543427638118658*t**2)"
      ]
     },
     "metadata": {},
     "output_type": "display_data"
    },
    {
     "name": "stdout",
     "output_type": "stream",
     "text": [
      "Sai số đạt được: 0.8547096264564927\n"
     ]
    },
    {
     "data": {
      "image/png": "[encoded data removed]",
      "text/plain": [
       "<Figure size 432x288 with 1 Axes>"
      ]
     },
     "metadata": {
      "needs_background": "light"
     },
     "output_type": "display_data"
    }
   ],
   "source": [
    "model_params = exponential(x, y, deg)\n",
    "\n",
    "expr = make_symbol(model_params, deg, model=\"exponential\")\n",
    "display(expr)\n",
    "\n",
    "err = mean_square_error(x, y, model_params, deg, model=\"exponential\")\n",
    "print(f\"Sai số đạt được: {err}\")\n",
    "\n",
    "plot_graph(x, y, model_params, model=\"exponential\")"
   ]
  },
  {
   "cell_type": "markdown",
   "metadata": {},
   "source": [
    "#### Mô hình logarith\n",
    "$$\n",
    "f(x) = \\ln(a_0+a_1x+a_2x^2+...+a_nx^n)\n",
    "$$\n",
    "\n",
    "Bằng phép lấy e 2 vế, ta được:\n",
    "$$\n",
    "e^y = a_0+a_1x+a_2x^2+...+a_nx^n\n",
    "$$"
   ]
  },
  {
   "cell_type": "code",
   "execution_count": 16,
   "metadata": {},
   "outputs": [],
   "source": [
    "def logarithm(x, y, deg):\n",
    "    y_arr = np.zeros_like(y)\n",
    "\n",
    "    for i in range(len(x)):\n",
    "        y_arr[i] = np.exp(y[i])\n",
    "    \n",
    "    a = polynomial(x, y_arr, deg)\n",
    "\n",
    "    return a"
   ]
  },
  {
   "cell_type": "code",
   "execution_count": 33,
   "metadata": {},
   "outputs": [
    {
     "data": {
      "text/latex": [
       "$\\displaystyle \\log{\\left(- 6.1791968329544 t^{5} + 122.640931662463 t^{3} - 175.663388590452 t^{2} + 123.107103061629 \\right)}$"
      ],
      "text/plain": [
       "log(-6.1791968329544*t**5 + 122.640931662463*t**3 - 175.663388590452*t**2 + 123.107103061629)"
      ]
     },
     "metadata": {},
     "output_type": "display_data"
    },
    {
     "name": "stdout",
     "output_type": "stream",
     "text": [
      "Sai số đạt được: 0.07983299993756272\n"
     ]
    },
    {
     "data": {
      "image/png": "[encoded data removed]",
      "text/plain": [
       "<Figure size 432x288 with 1 Axes>"
      ]
     },
     "metadata": {
      "needs_background": "light"
     },
     "output_type": "display_data"
    }
   ],
   "source": [
    "model_params = logarithm(x, y, deg)\n",
    "\n",
    "expr = make_symbol(model_params, deg, model=\"logarithm\")\n",
    "display(expr)\n",
    "\n",
    "err = mean_square_error(x, y, model_params, deg, model=\"logarithm\")\n",
    "print(f\"Sai số đạt được: {err}\")\n",
    "\n",
    "plot_graph(x, y, model_params, model=\"logarithm\")"
   ]
  }
 ],
 "metadata": {
  "interpreter": {
   "hash": "b89b5cfaba6639976dc87ff2fec6d58faec662063367e2c229c520fe71072417"
  },
  "kernelspec": {
   "display_name": "Python 3.10.2 64-bit",
   "language": "python",
   "name": "python3"
  },
  "language_info": {
   "codemirror_mode": {
    "name": "ipython",
    "version": 3
   },
   "file_extension": ".py",
   "mimetype": "text/x-python",
   "name": "python",
   "nbconvert_exporter": "python",
   "pygments_lexer": "ipython3",
   "version": "3.10.2"
  },
  "orig_nbformat": 4
 },
 "nbformat": 4,
 "nbformat_minor": 2
}
